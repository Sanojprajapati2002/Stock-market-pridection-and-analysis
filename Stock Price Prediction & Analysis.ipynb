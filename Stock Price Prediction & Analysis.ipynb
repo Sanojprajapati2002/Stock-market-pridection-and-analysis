{
 "cells": [
  {
   "cell_type": "code",
   "execution_count": 1,
   "id": "5f910602",
   "metadata": {},
   "outputs": [],
   "source": [
    "import numpy as np\n",
    "import pandas as pd\n",
    "import matplotlib.pyplot as plt\n",
    "import yfinance as yf\n"
   ]
  },
  {
   "cell_type": "code",
   "execution_count": 2,
   "id": "7df8314e",
   "metadata": {},
   "outputs": [],
   "source": [
    "stock_symbol = \"ZEEL.NS\""
   ]
  },
  {
   "cell_type": "code",
   "execution_count": 3,
   "id": "80360505",
   "metadata": {},
   "outputs": [
    {
     "name": "stdout",
     "output_type": "stream",
     "text": [
      "[*********************100%***********************]  1 of 1 completed\n"
     ]
    }
   ],
   "source": [
    "df = yf.download(tickers=stock_symbol,period='1y', interval='1D')"
   ]
  },
  {
   "cell_type": "code",
   "execution_count": 4,
   "id": "f164dcbe",
   "metadata": {},
   "outputs": [
    {
     "data": {
      "text/plain": [
       "pandas.core.frame.DataFrame"
      ]
     },
     "execution_count": 4,
     "metadata": {},
     "output_type": "execute_result"
    }
   ],
   "source": [
    "type(df)"
   ]
  },
  {
   "cell_type": "code",
   "execution_count": 5,
   "id": "abff6383",
   "metadata": {},
   "outputs": [
    {
     "data": {
      "text/html": [
       "<div>\n",
       "<style scoped>\n",
       "    .dataframe tbody tr th:only-of-type {\n",
       "        vertical-align: middle;\n",
       "    }\n",
       "\n",
       "    .dataframe tbody tr th {\n",
       "        vertical-align: top;\n",
       "    }\n",
       "\n",
       "    .dataframe thead th {\n",
       "        text-align: right;\n",
       "    }\n",
       "</style>\n",
       "<table border=\"1\" class=\"dataframe\">\n",
       "  <thead>\n",
       "    <tr style=\"text-align: right;\">\n",
       "      <th></th>\n",
       "      <th>Open</th>\n",
       "      <th>High</th>\n",
       "      <th>Low</th>\n",
       "      <th>Close</th>\n",
       "      <th>Adj Close</th>\n",
       "      <th>Volume</th>\n",
       "    </tr>\n",
       "    <tr>\n",
       "      <th>Date</th>\n",
       "      <th></th>\n",
       "      <th></th>\n",
       "      <th></th>\n",
       "      <th></th>\n",
       "      <th></th>\n",
       "      <th></th>\n",
       "    </tr>\n",
       "  </thead>\n",
       "  <tbody>\n",
       "    <tr>\n",
       "      <th>2022-03-14</th>\n",
       "      <td>244.899994</td>\n",
       "      <td>262.799988</td>\n",
       "      <td>244.100006</td>\n",
       "      <td>259.200012</td>\n",
       "      <td>256.408417</td>\n",
       "      <td>27764946</td>\n",
       "    </tr>\n",
       "    <tr>\n",
       "      <th>2022-03-15</th>\n",
       "      <td>260.000000</td>\n",
       "      <td>263.950012</td>\n",
       "      <td>252.600006</td>\n",
       "      <td>253.949997</td>\n",
       "      <td>251.214935</td>\n",
       "      <td>15453515</td>\n",
       "    </tr>\n",
       "    <tr>\n",
       "      <th>2022-03-16</th>\n",
       "      <td>259.000000</td>\n",
       "      <td>259.000000</td>\n",
       "      <td>253.000000</td>\n",
       "      <td>254.149994</td>\n",
       "      <td>251.412781</td>\n",
       "      <td>8512767</td>\n",
       "    </tr>\n",
       "    <tr>\n",
       "      <th>2022-03-17</th>\n",
       "      <td>259.799988</td>\n",
       "      <td>261.750000</td>\n",
       "      <td>255.800003</td>\n",
       "      <td>258.799988</td>\n",
       "      <td>256.012695</td>\n",
       "      <td>9120713</td>\n",
       "    </tr>\n",
       "    <tr>\n",
       "      <th>2022-03-21</th>\n",
       "      <td>258.950012</td>\n",
       "      <td>263.299988</td>\n",
       "      <td>256.100006</td>\n",
       "      <td>256.799988</td>\n",
       "      <td>254.034225</td>\n",
       "      <td>8909916</td>\n",
       "    </tr>\n",
       "  </tbody>\n",
       "</table>\n",
       "</div>"
      ],
      "text/plain": [
       "                  Open        High         Low       Close   Adj Close  \\\n",
       "Date                                                                     \n",
       "2022-03-14  244.899994  262.799988  244.100006  259.200012  256.408417   \n",
       "2022-03-15  260.000000  263.950012  252.600006  253.949997  251.214935   \n",
       "2022-03-16  259.000000  259.000000  253.000000  254.149994  251.412781   \n",
       "2022-03-17  259.799988  261.750000  255.800003  258.799988  256.012695   \n",
       "2022-03-21  258.950012  263.299988  256.100006  256.799988  254.034225   \n",
       "\n",
       "              Volume  \n",
       "Date                  \n",
       "2022-03-14  27764946  \n",
       "2022-03-15  15453515  \n",
       "2022-03-16   8512767  \n",
       "2022-03-17   9120713  \n",
       "2022-03-21   8909916  "
      ]
     },
     "execution_count": 5,
     "metadata": {},
     "output_type": "execute_result"
    }
   ],
   "source": [
    "df.head()\n"
   ]
  },
  {
   "cell_type": "code",
   "execution_count": 6,
   "id": "14c639c0",
   "metadata": {},
   "outputs": [
    {
     "data": {
      "text/html": [
       "<div>\n",
       "<style scoped>\n",
       "    .dataframe tbody tr th:only-of-type {\n",
       "        vertical-align: middle;\n",
       "    }\n",
       "\n",
       "    .dataframe tbody tr th {\n",
       "        vertical-align: top;\n",
       "    }\n",
       "\n",
       "    .dataframe thead th {\n",
       "        text-align: right;\n",
       "    }\n",
       "</style>\n",
       "<table border=\"1\" class=\"dataframe\">\n",
       "  <thead>\n",
       "    <tr style=\"text-align: right;\">\n",
       "      <th></th>\n",
       "      <th>Open</th>\n",
       "      <th>High</th>\n",
       "      <th>Low</th>\n",
       "      <th>Close</th>\n",
       "      <th>Adj Close</th>\n",
       "      <th>Volume</th>\n",
       "    </tr>\n",
       "    <tr>\n",
       "      <th>Date</th>\n",
       "      <th></th>\n",
       "      <th></th>\n",
       "      <th></th>\n",
       "      <th></th>\n",
       "      <th></th>\n",
       "      <th></th>\n",
       "    </tr>\n",
       "  </thead>\n",
       "  <tbody>\n",
       "    <tr>\n",
       "      <th>2023-03-08</th>\n",
       "      <td>198.100006</td>\n",
       "      <td>201.500000</td>\n",
       "      <td>195.350006</td>\n",
       "      <td>196.649994</td>\n",
       "      <td>196.649994</td>\n",
       "      <td>9528342</td>\n",
       "    </tr>\n",
       "    <tr>\n",
       "      <th>2023-03-09</th>\n",
       "      <td>196.550003</td>\n",
       "      <td>197.850006</td>\n",
       "      <td>192.399994</td>\n",
       "      <td>193.800003</td>\n",
       "      <td>193.800003</td>\n",
       "      <td>4136612</td>\n",
       "    </tr>\n",
       "    <tr>\n",
       "      <th>2023-03-10</th>\n",
       "      <td>192.000000</td>\n",
       "      <td>195.399994</td>\n",
       "      <td>190.399994</td>\n",
       "      <td>193.600006</td>\n",
       "      <td>193.600006</td>\n",
       "      <td>2891305</td>\n",
       "    </tr>\n",
       "    <tr>\n",
       "      <th>2023-03-13</th>\n",
       "      <td>193.699997</td>\n",
       "      <td>194.449997</td>\n",
       "      <td>186.399994</td>\n",
       "      <td>188.300003</td>\n",
       "      <td>188.300003</td>\n",
       "      <td>4321616</td>\n",
       "    </tr>\n",
       "    <tr>\n",
       "      <th>2023-03-14</th>\n",
       "      <td>187.199997</td>\n",
       "      <td>193.899994</td>\n",
       "      <td>187.100006</td>\n",
       "      <td>192.449997</td>\n",
       "      <td>192.449997</td>\n",
       "      <td>6509766</td>\n",
       "    </tr>\n",
       "  </tbody>\n",
       "</table>\n",
       "</div>"
      ],
      "text/plain": [
       "                  Open        High         Low       Close   Adj Close  \\\n",
       "Date                                                                     \n",
       "2023-03-08  198.100006  201.500000  195.350006  196.649994  196.649994   \n",
       "2023-03-09  196.550003  197.850006  192.399994  193.800003  193.800003   \n",
       "2023-03-10  192.000000  195.399994  190.399994  193.600006  193.600006   \n",
       "2023-03-13  193.699997  194.449997  186.399994  188.300003  188.300003   \n",
       "2023-03-14  187.199997  193.899994  187.100006  192.449997  192.449997   \n",
       "\n",
       "             Volume  \n",
       "Date                 \n",
       "2023-03-08  9528342  \n",
       "2023-03-09  4136612  \n",
       "2023-03-10  2891305  \n",
       "2023-03-13  4321616  \n",
       "2023-03-14  6509766  "
      ]
     },
     "execution_count": 6,
     "metadata": {},
     "output_type": "execute_result"
    }
   ],
   "source": [
    "df.tail()"
   ]
  },
  {
   "cell_type": "code",
   "execution_count": 7,
   "id": "cd49a5e3",
   "metadata": {},
   "outputs": [
    {
     "data": {
      "text/html": [
       "<div>\n",
       "<style scoped>\n",
       "    .dataframe tbody tr th:only-of-type {\n",
       "        vertical-align: middle;\n",
       "    }\n",
       "\n",
       "    .dataframe tbody tr th {\n",
       "        vertical-align: top;\n",
       "    }\n",
       "\n",
       "    .dataframe thead th {\n",
       "        text-align: right;\n",
       "    }\n",
       "</style>\n",
       "<table border=\"1\" class=\"dataframe\">\n",
       "  <thead>\n",
       "    <tr style=\"text-align: right;\">\n",
       "      <th></th>\n",
       "      <th>Date</th>\n",
       "      <th>Open</th>\n",
       "      <th>High</th>\n",
       "      <th>Low</th>\n",
       "      <th>Close</th>\n",
       "      <th>Adj Close</th>\n",
       "      <th>Volume</th>\n",
       "    </tr>\n",
       "  </thead>\n",
       "  <tbody>\n",
       "    <tr>\n",
       "      <th>0</th>\n",
       "      <td>2022-03-14</td>\n",
       "      <td>244.899994</td>\n",
       "      <td>262.799988</td>\n",
       "      <td>244.100006</td>\n",
       "      <td>259.200012</td>\n",
       "      <td>256.408417</td>\n",
       "      <td>27764946</td>\n",
       "    </tr>\n",
       "    <tr>\n",
       "      <th>1</th>\n",
       "      <td>2022-03-15</td>\n",
       "      <td>260.000000</td>\n",
       "      <td>263.950012</td>\n",
       "      <td>252.600006</td>\n",
       "      <td>253.949997</td>\n",
       "      <td>251.214935</td>\n",
       "      <td>15453515</td>\n",
       "    </tr>\n",
       "    <tr>\n",
       "      <th>2</th>\n",
       "      <td>2022-03-16</td>\n",
       "      <td>259.000000</td>\n",
       "      <td>259.000000</td>\n",
       "      <td>253.000000</td>\n",
       "      <td>254.149994</td>\n",
       "      <td>251.412781</td>\n",
       "      <td>8512767</td>\n",
       "    </tr>\n",
       "    <tr>\n",
       "      <th>3</th>\n",
       "      <td>2022-03-17</td>\n",
       "      <td>259.799988</td>\n",
       "      <td>261.750000</td>\n",
       "      <td>255.800003</td>\n",
       "      <td>258.799988</td>\n",
       "      <td>256.012695</td>\n",
       "      <td>9120713</td>\n",
       "    </tr>\n",
       "    <tr>\n",
       "      <th>4</th>\n",
       "      <td>2022-03-21</td>\n",
       "      <td>258.950012</td>\n",
       "      <td>263.299988</td>\n",
       "      <td>256.100006</td>\n",
       "      <td>256.799988</td>\n",
       "      <td>254.034225</td>\n",
       "      <td>8909916</td>\n",
       "    </tr>\n",
       "  </tbody>\n",
       "</table>\n",
       "</div>"
      ],
      "text/plain": [
       "        Date        Open        High         Low       Close   Adj Close  \\\n",
       "0 2022-03-14  244.899994  262.799988  244.100006  259.200012  256.408417   \n",
       "1 2022-03-15  260.000000  263.950012  252.600006  253.949997  251.214935   \n",
       "2 2022-03-16  259.000000  259.000000  253.000000  254.149994  251.412781   \n",
       "3 2022-03-17  259.799988  261.750000  255.800003  258.799988  256.012695   \n",
       "4 2022-03-21  258.950012  263.299988  256.100006  256.799988  254.034225   \n",
       "\n",
       "     Volume  \n",
       "0  27764946  \n",
       "1  15453515  \n",
       "2   8512767  \n",
       "3   9120713  \n",
       "4   8909916  "
      ]
     },
     "execution_count": 7,
     "metadata": {},
     "output_type": "execute_result"
    }
   ],
   "source": [
    "df = df.reset_index()\n",
    "df.head()"
   ]
  },
  {
   "cell_type": "code",
   "execution_count": 8,
   "id": "1c21230c",
   "metadata": {},
   "outputs": [],
   "source": [
    "clo = df[['Close']]"
   ]
  },
  {
   "cell_type": "code",
   "execution_count": 9,
   "id": "739de6b1",
   "metadata": {},
   "outputs": [
    {
     "data": {
      "text/plain": [
       "<Axes: >"
      ]
     },
     "execution_count": 9,
     "metadata": {},
     "output_type": "execute_result"
    },
    {
     "data": {
      "image/png": "[encoded data removed]",
      "text/plain": [
       "<Figure size 640x480 with 1 Axes>"
      ]
     },
     "metadata": {},
     "output_type": "display_data"
    }
   ],
   "source": [
    "clo.plot()"
   ]
  },
  {
   "cell_type": "code",
   "execution_count": 10,
   "id": "ddd733ff",
   "metadata": {},
   "outputs": [
    {
     "data": {
      "text/html": [
       "<div>\n",
       "<style scoped>\n",
       "    .dataframe tbody tr th:only-of-type {\n",
       "        vertical-align: middle;\n",
       "    }\n",
       "\n",
       "    .dataframe tbody tr th {\n",
       "        vertical-align: top;\n",
       "    }\n",
       "\n",
       "    .dataframe thead th {\n",
       "        text-align: right;\n",
       "    }\n",
       "</style>\n",
       "<table border=\"1\" class=\"dataframe\">\n",
       "  <thead>\n",
       "    <tr style=\"text-align: right;\">\n",
       "      <th></th>\n",
       "      <th>Date</th>\n",
       "      <th>Open</th>\n",
       "      <th>High</th>\n",
       "      <th>Low</th>\n",
       "      <th>Close</th>\n",
       "      <th>Adj Close</th>\n",
       "      <th>Volume</th>\n",
       "    </tr>\n",
       "  </thead>\n",
       "  <tbody>\n",
       "    <tr>\n",
       "      <th>0</th>\n",
       "      <td>2022-03-14</td>\n",
       "      <td>244.899994</td>\n",
       "      <td>262.799988</td>\n",
       "      <td>244.100006</td>\n",
       "      <td>259.200012</td>\n",
       "      <td>256.408417</td>\n",
       "      <td>27764946</td>\n",
       "    </tr>\n",
       "    <tr>\n",
       "      <th>1</th>\n",
       "      <td>2022-03-15</td>\n",
       "      <td>260.000000</td>\n",
       "      <td>263.950012</td>\n",
       "      <td>252.600006</td>\n",
       "      <td>253.949997</td>\n",
       "      <td>251.214935</td>\n",
       "      <td>15453515</td>\n",
       "    </tr>\n",
       "    <tr>\n",
       "      <th>2</th>\n",
       "      <td>2022-03-16</td>\n",
       "      <td>259.000000</td>\n",
       "      <td>259.000000</td>\n",
       "      <td>253.000000</td>\n",
       "      <td>254.149994</td>\n",
       "      <td>251.412781</td>\n",
       "      <td>8512767</td>\n",
       "    </tr>\n",
       "    <tr>\n",
       "      <th>3</th>\n",
       "      <td>2022-03-17</td>\n",
       "      <td>259.799988</td>\n",
       "      <td>261.750000</td>\n",
       "      <td>255.800003</td>\n",
       "      <td>258.799988</td>\n",
       "      <td>256.012695</td>\n",
       "      <td>9120713</td>\n",
       "    </tr>\n",
       "    <tr>\n",
       "      <th>4</th>\n",
       "      <td>2022-03-21</td>\n",
       "      <td>258.950012</td>\n",
       "      <td>263.299988</td>\n",
       "      <td>256.100006</td>\n",
       "      <td>256.799988</td>\n",
       "      <td>254.034225</td>\n",
       "      <td>8909916</td>\n",
       "    </tr>\n",
       "    <tr>\n",
       "      <th>...</th>\n",
       "      <td>...</td>\n",
       "      <td>...</td>\n",
       "      <td>...</td>\n",
       "      <td>...</td>\n",
       "      <td>...</td>\n",
       "      <td>...</td>\n",
       "      <td>...</td>\n",
       "    </tr>\n",
       "    <tr>\n",
       "      <th>245</th>\n",
       "      <td>2023-03-08</td>\n",
       "      <td>198.100006</td>\n",
       "      <td>201.500000</td>\n",
       "      <td>195.350006</td>\n",
       "      <td>196.649994</td>\n",
       "      <td>196.649994</td>\n",
       "      <td>9528342</td>\n",
       "    </tr>\n",
       "    <tr>\n",
       "      <th>246</th>\n",
       "      <td>2023-03-09</td>\n",
       "      <td>196.550003</td>\n",
       "      <td>197.850006</td>\n",
       "      <td>192.399994</td>\n",
       "      <td>193.800003</td>\n",
       "      <td>193.800003</td>\n",
       "      <td>4136612</td>\n",
       "    </tr>\n",
       "    <tr>\n",
       "      <th>247</th>\n",
       "      <td>2023-03-10</td>\n",
       "      <td>192.000000</td>\n",
       "      <td>195.399994</td>\n",
       "      <td>190.399994</td>\n",
       "      <td>193.600006</td>\n",
       "      <td>193.600006</td>\n",
       "      <td>2891305</td>\n",
       "    </tr>\n",
       "    <tr>\n",
       "      <th>248</th>\n",
       "      <td>2023-03-13</td>\n",
       "      <td>193.699997</td>\n",
       "      <td>194.449997</td>\n",
       "      <td>186.399994</td>\n",
       "      <td>188.300003</td>\n",
       "      <td>188.300003</td>\n",
       "      <td>4321616</td>\n",
       "    </tr>\n",
       "    <tr>\n",
       "      <th>249</th>\n",
       "      <td>2023-03-14</td>\n",
       "      <td>187.199997</td>\n",
       "      <td>193.899994</td>\n",
       "      <td>187.100006</td>\n",
       "      <td>192.449997</td>\n",
       "      <td>192.449997</td>\n",
       "      <td>6509766</td>\n",
       "    </tr>\n",
       "  </tbody>\n",
       "</table>\n",
       "<p>250 rows × 7 columns</p>\n",
       "</div>"
      ],
      "text/plain": [
       "          Date        Open        High         Low       Close   Adj Close  \\\n",
       "0   2022-03-14  244.899994  262.799988  244.100006  259.200012  256.408417   \n",
       "1   2022-03-15  260.000000  263.950012  252.600006  253.949997  251.214935   \n",
       "2   2022-03-16  259.000000  259.000000  253.000000  254.149994  251.412781   \n",
       "3   2022-03-17  259.799988  261.750000  255.800003  258.799988  256.012695   \n",
       "4   2022-03-21  258.950012  263.299988  256.100006  256.799988  254.034225   \n",
       "..         ...         ...         ...         ...         ...         ...   \n",
       "245 2023-03-08  198.100006  201.500000  195.350006  196.649994  196.649994   \n",
       "246 2023-03-09  196.550003  197.850006  192.399994  193.800003  193.800003   \n",
       "247 2023-03-10  192.000000  195.399994  190.399994  193.600006  193.600006   \n",
       "248 2023-03-13  193.699997  194.449997  186.399994  188.300003  188.300003   \n",
       "249 2023-03-14  187.199997  193.899994  187.100006  192.449997  192.449997   \n",
       "\n",
       "       Volume  \n",
       "0    27764946  \n",
       "1    15453515  \n",
       "2     8512767  \n",
       "3     9120713  \n",
       "4     8909916  \n",
       "..        ...  \n",
       "245   9528342  \n",
       "246   4136612  \n",
       "247   2891305  \n",
       "248   4321616  \n",
       "249   6509766  \n",
       "\n",
       "[250 rows x 7 columns]"
      ]
     },
     "execution_count": 10,
     "metadata": {},
     "output_type": "execute_result"
    }
   ],
   "source": [
    "df"
   ]
  },
  {
   "cell_type": "code",
   "execution_count": 11,
   "id": "ef0ffbe6",
   "metadata": {},
   "outputs": [
    {
     "data": {
      "text/plain": [
       "0             NaN\n",
       "1             NaN\n",
       "2             NaN\n",
       "3             NaN\n",
       "4             NaN\n",
       "          ...    \n",
       "245    240.230501\n",
       "246    239.494501\n",
       "247    238.793501\n",
       "248    237.969001\n",
       "249    237.181501\n",
       "Name: Close, Length: 250, dtype: float64"
      ]
     },
     "execution_count": 11,
     "metadata": {},
     "output_type": "execute_result"
    }
   ],
   "source": [
    "ma100 = df.Close.rolling(100).mean()\n",
    "ma100"
   ]
  },
  {
   "cell_type": "code",
   "execution_count": 12,
   "id": "3995375b",
   "metadata": {},
   "outputs": [
    {
     "data": {
      "text/plain": [
       "[<matplotlib.lines.Line2D at 0x1c193a93790>]"
      ]
     },
     "execution_count": 12,
     "metadata": {},
     "output_type": "execute_result"
    },
    {
     "data": {
      "image/png": "[encoded data removed]",
      "text/plain": [
       "<Figure size 1200x600 with 1 Axes>"
      ]
     },
     "metadata": {},
     "output_type": "display_data"
    }
   ],
   "source": [
    "plt.figure(figsize =(12,6))\n",
    "plt.plot(df.Close)\n",
    "plt.plot(ma100, 'r')"
   ]
  },
  {
   "cell_type": "code",
   "execution_count": 13,
   "id": "7f1121bb",
   "metadata": {},
   "outputs": [
    {
     "data": {
      "text/plain": [
       "0             NaN\n",
       "1             NaN\n",
       "2             NaN\n",
       "3             NaN\n",
       "4             NaN\n",
       "          ...    \n",
       "245    242.325251\n",
       "246    242.104751\n",
       "247    241.888001\n",
       "248    241.684001\n",
       "249    241.497251\n",
       "Name: Close, Length: 250, dtype: float64"
      ]
     },
     "execution_count": 13,
     "metadata": {},
     "output_type": "execute_result"
    }
   ],
   "source": [
    "ma200 = df.Close.rolling(200).mean()\n",
    "ma200"
   ]
  },
  {
   "cell_type": "code",
   "execution_count": 14,
   "id": "4e3d242a",
   "metadata": {},
   "outputs": [
    {
     "data": {
      "text/plain": [
       "[<matplotlib.lines.Line2D at 0x1c1941d2950>]"
      ]
     },
     "execution_count": 14,
     "metadata": {},
     "output_type": "execute_result"
    },
    {
     "data": {
      "image/png": "[encoded data removed]",
      "text/plain": [
       "<Figure size 1200x600 with 1 Axes>"
      ]
     },
     "metadata": {},
     "output_type": "display_data"
    }
   ],
   "source": [
    "plt.figure(figsize =(12,6))\n",
    "plt.plot(df.Close)\n",
    "plt.plot(ma100, 'r')\n",
    "plt.plot(ma200, 'g')"
   ]
  },
  {
   "cell_type": "code",
   "execution_count": 15,
   "id": "aaed6a1a",
   "metadata": {},
   "outputs": [
    {
     "data": {
      "text/plain": [
       "(250, 7)"
      ]
     },
     "execution_count": 15,
     "metadata": {},
     "output_type": "execute_result"
    }
   ],
   "source": [
    "df.shape"
   ]
  },
  {
   "cell_type": "code",
   "execution_count": 16,
   "id": "d5e40826",
   "metadata": {},
   "outputs": [
    {
     "name": "stdout",
     "output_type": "stream",
     "text": [
      "(175, 1)\n",
      "(75, 1)\n"
     ]
    }
   ],
   "source": [
    "#split data into training and testing\n",
    "data_training =pd.DataFrame(df['Close'][0:int(len(df)*0.70)])\n",
    "data_testing =pd.DataFrame(df['Close'][int(len(df)*0.70):int(len(df))])\n",
    "\n",
    "print(data_training.shape)\n",
    "print(data_testing.shape)"
   ]
  },
  {
   "cell_type": "code",
   "execution_count": 17,
   "id": "64e4d035",
   "metadata": {},
   "outputs": [
    {
     "data": {
      "text/html": [
       "<div>\n",
       "<style scoped>\n",
       "    .dataframe tbody tr th:only-of-type {\n",
       "        vertical-align: middle;\n",
       "    }\n",
       "\n",
       "    .dataframe tbody tr th {\n",
       "        vertical-align: top;\n",
       "    }\n",
       "\n",
       "    .dataframe thead th {\n",
       "        text-align: right;\n",
       "    }\n",
       "</style>\n",
       "<table border=\"1\" class=\"dataframe\">\n",
       "  <thead>\n",
       "    <tr style=\"text-align: right;\">\n",
       "      <th></th>\n",
       "      <th>Close</th>\n",
       "    </tr>\n",
       "  </thead>\n",
       "  <tbody>\n",
       "    <tr>\n",
       "      <th>0</th>\n",
       "      <td>259.200012</td>\n",
       "    </tr>\n",
       "    <tr>\n",
       "      <th>1</th>\n",
       "      <td>253.949997</td>\n",
       "    </tr>\n",
       "    <tr>\n",
       "      <th>2</th>\n",
       "      <td>254.149994</td>\n",
       "    </tr>\n",
       "    <tr>\n",
       "      <th>3</th>\n",
       "      <td>258.799988</td>\n",
       "    </tr>\n",
       "    <tr>\n",
       "      <th>4</th>\n",
       "      <td>256.799988</td>\n",
       "    </tr>\n",
       "  </tbody>\n",
       "</table>\n",
       "</div>"
      ],
      "text/plain": [
       "        Close\n",
       "0  259.200012\n",
       "1  253.949997\n",
       "2  254.149994\n",
       "3  258.799988\n",
       "4  256.799988"
      ]
     },
     "execution_count": 17,
     "metadata": {},
     "output_type": "execute_result"
    }
   ],
   "source": [
    "data_training.head()"
   ]
  },
  {
   "cell_type": "code",
   "execution_count": 18,
   "id": "d57464d1",
   "metadata": {},
   "outputs": [
    {
     "data": {
      "text/html": [
       "<div>\n",
       "<style scoped>\n",
       "    .dataframe tbody tr th:only-of-type {\n",
       "        vertical-align: middle;\n",
       "    }\n",
       "\n",
       "    .dataframe tbody tr th {\n",
       "        vertical-align: top;\n",
       "    }\n",
       "\n",
       "    .dataframe thead th {\n",
       "        text-align: right;\n",
       "    }\n",
       "</style>\n",
       "<table border=\"1\" class=\"dataframe\">\n",
       "  <thead>\n",
       "    <tr style=\"text-align: right;\">\n",
       "      <th></th>\n",
       "      <th>Close</th>\n",
       "    </tr>\n",
       "  </thead>\n",
       "  <tbody>\n",
       "    <tr>\n",
       "      <th>175</th>\n",
       "      <td>260.500000</td>\n",
       "    </tr>\n",
       "    <tr>\n",
       "      <th>176</th>\n",
       "      <td>261.899994</td>\n",
       "    </tr>\n",
       "    <tr>\n",
       "      <th>177</th>\n",
       "      <td>264.600006</td>\n",
       "    </tr>\n",
       "    <tr>\n",
       "      <th>178</th>\n",
       "      <td>266.350006</td>\n",
       "    </tr>\n",
       "    <tr>\n",
       "      <th>179</th>\n",
       "      <td>271.049988</td>\n",
       "    </tr>\n",
       "  </tbody>\n",
       "</table>\n",
       "</div>"
      ],
      "text/plain": [
       "          Close\n",
       "175  260.500000\n",
       "176  261.899994\n",
       "177  264.600006\n",
       "178  266.350006\n",
       "179  271.049988"
      ]
     },
     "execution_count": 18,
     "metadata": {},
     "output_type": "execute_result"
    }
   ],
   "source": [
    "data_testing.head()"
   ]
  },
  {
   "cell_type": "code",
   "execution_count": 19,
   "id": "1c58f1b0",
   "metadata": {},
   "outputs": [],
   "source": [
    "from sklearn.preprocessing import MinMaxScaler\n",
    "scaler = MinMaxScaler(feature_range=(0,1))"
   ]
  },
  {
   "cell_type": "code",
   "execution_count": 20,
   "id": "3d25c3d3",
   "metadata": {},
   "outputs": [
    {
     "data": {
      "text/plain": [
       "array([[0.53719463],\n",
       "       [0.48140276],\n",
       "       [0.48352813],\n",
       "       [0.53294358],\n",
       "       [0.51168959],\n",
       "       [0.42401707],\n",
       "       [0.50371935],\n",
       "       [0.95908602],\n",
       "       [0.91870358],\n",
       "       [0.86344309],\n",
       "       [0.80818293],\n",
       "       [0.90701382],\n",
       "       [0.84697138],\n",
       "       [0.96865024],\n",
       "       [1.        ],\n",
       "       [0.97236976],\n",
       "       [0.87407008],\n",
       "       [0.80871415],\n",
       "       [0.82199789],\n",
       "       [0.87300732],\n",
       "       [0.78267789],\n",
       "       [0.75079691],\n",
       "       [0.69606797],\n",
       "       [0.62699252],\n",
       "       [0.60573854],\n",
       "       [0.61955382],\n",
       "       [0.6482465 ],\n",
       "       [0.53985138],\n",
       "       [0.55632309],\n",
       "       [0.47980878],\n",
       "       [0.4989374 ],\n",
       "       [0.41976618],\n",
       "       [0.49681187],\n",
       "       [0.37353886],\n",
       "       [0.37938374],\n",
       "       [0.42082894],\n",
       "       [0.27842732],\n",
       "       [0.2550478 ],\n",
       "       [0.32837415],\n",
       "       [0.29330504],\n",
       "       [0.32518602],\n",
       "       [0.32996813],\n",
       "       [0.39744959],\n",
       "       [0.35919236],\n",
       "       [0.22954309],\n",
       "       [0.31934114],\n",
       "       [0.31083951],\n",
       "       [0.3007439 ],\n",
       "       [0.21732211],\n",
       "       [0.22476098],\n",
       "       [0.30552602],\n",
       "       [0.38310309],\n",
       "       [0.46971317],\n",
       "       [0.47290114],\n",
       "       [0.49681187],\n",
       "       [0.45536667],\n",
       "       [0.42879919],\n",
       "       [0.31190228],\n",
       "       [0.3204039 ],\n",
       "       [0.33528163],\n",
       "       [0.29224228],\n",
       "       [0.19181724],\n",
       "       [0.15196602],\n",
       "       [0.13124341],\n",
       "       [0.05207236],\n",
       "       [0.0653561 ],\n",
       "       [0.        ],\n",
       "       [0.13708829],\n",
       "       [0.02816163],\n",
       "       [0.06482472],\n",
       "       [0.13071203],\n",
       "       [0.14293317],\n",
       "       [0.09139219],\n",
       "       [0.04516472],\n",
       "       [0.05791724],\n",
       "       [0.07066959],\n",
       "       [0.1121148 ],\n",
       "       [0.07120098],\n",
       "       [0.15940488],\n",
       "       [0.15302878],\n",
       "       [0.16153041],\n",
       "       [0.16471837],\n",
       "       [0.12911805],\n",
       "       [0.15356016],\n",
       "       [0.16737512],\n",
       "       [0.16950065],\n",
       "       [0.23538797],\n",
       "       [0.23273122],\n",
       "       [0.23273122],\n",
       "       [0.27948992],\n",
       "       [0.28746016],\n",
       "       [0.26408081],\n",
       "       [0.28214667],\n",
       "       [0.3320935 ],\n",
       "       [0.41870358],\n",
       "       [0.4075452 ],\n",
       "       [0.47343252],\n",
       "       [0.40967057],\n",
       "       [0.34272049],\n",
       "       [0.36131772],\n",
       "       [0.37407024],\n",
       "       [0.45270992],\n",
       "       [0.43836341],\n",
       "       [0.41870358],\n",
       "       [0.35228488],\n",
       "       [0.30977691],\n",
       "       [0.46386829],\n",
       "       [0.46811902],\n",
       "       [0.54835285],\n",
       "       [0.53666309],\n",
       "       [0.51115837],\n",
       "       [0.5871413 ],\n",
       "       [0.57120081],\n",
       "       [0.5260361 ],\n",
       "       [0.45377268],\n",
       "       [0.51434634],\n",
       "       [0.38363447],\n",
       "       [0.42614244],\n",
       "       [0.45005317],\n",
       "       [0.42454846],\n",
       "       [0.55260358],\n",
       "       [0.51487789],\n",
       "       [0.58289057],\n",
       "       [0.65568553],\n",
       "       [0.66737528],\n",
       "       [0.74282667],\n",
       "       [0.69181724],\n",
       "       [0.55844862],\n",
       "       [0.61742829],\n",
       "       [0.6588735 ],\n",
       "       [0.66737528],\n",
       "       [0.68809772],\n",
       "       [0.55579187],\n",
       "       [0.52284813],\n",
       "       [0.57757707],\n",
       "       [0.51222114],\n",
       "       [0.45111593],\n",
       "       [0.5260361 ],\n",
       "       [0.46280553],\n",
       "       [0.63283756],\n",
       "       [0.75770472],\n",
       "       [0.77736439],\n",
       "       [0.74335821],\n",
       "       [0.68012748],\n",
       "       [0.63018081],\n",
       "       [0.68544098],\n",
       "       [0.62433577],\n",
       "       [0.5850161 ],\n",
       "       [0.65993626],\n",
       "       [0.66471854],\n",
       "       [0.66259301],\n",
       "       [0.61955382],\n",
       "       [0.62486732],\n",
       "       [0.57704585],\n",
       "       [0.60839528],\n",
       "       [0.57810829],\n",
       "       [0.57173236],\n",
       "       [0.57226358],\n",
       "       [0.59829984],\n",
       "       [0.62433577],\n",
       "       [0.59989382],\n",
       "       [0.5924548 ],\n",
       "       [0.57173236],\n",
       "       [0.56376211],\n",
       "       [0.60786406],\n",
       "       [0.54144537],\n",
       "       [0.54729008],\n",
       "       [0.48990439],\n",
       "       [0.47077577],\n",
       "       [0.44845919],\n",
       "       [0.40860797],\n",
       "       [0.46068016],\n",
       "       [0.47980878],\n",
       "       [0.46865041],\n",
       "       [0.53931984]])"
      ]
     },
     "execution_count": 20,
     "metadata": {},
     "output_type": "execute_result"
    }
   ],
   "source": [
    "data_training_array = scaler.fit_transform(data_training)\n",
    "data_training_array"
   ]
  },
  {
   "cell_type": "code",
   "execution_count": 21,
   "id": "f6e9d0b6",
   "metadata": {},
   "outputs": [
    {
     "data": {
      "text/plain": [
       "(175, 1)"
      ]
     },
     "execution_count": 21,
     "metadata": {},
     "output_type": "execute_result"
    }
   ],
   "source": [
    "data_training_array.shape"
   ]
  },
  {
   "cell_type": "code",
   "execution_count": 22,
   "id": "97770c7d",
   "metadata": {},
   "outputs": [],
   "source": [
    "x_train = []\n",
    "y_train = []\n",
    "\n",
    "for i in range(100,data_training_array.shape[0]):\n",
    "    x_train.append(data_training_array[i-100: i])\n",
    "    y_train.append(data_training_array[i, 0])\n",
    "    \n",
    "x_train, y_train= np.array(x_train), np.array(y_train)"
   ]
  },
  {
   "cell_type": "code",
   "execution_count": 23,
   "id": "0b41205c",
   "metadata": {},
   "outputs": [],
   "source": [
    "# ML model Main phase\n",
    "#from keras.layers import dense, Dropout , LSTM\n",
    "#from keras.models import Sequential\n",
    "import tensorflow as tf\n",
    "from tensorflow.keras.models import Sequential\n",
    "from tensorflow.keras.layers import Dense,Dropout, LSTM"
   ]
  },
  {
   "cell_type": "code",
   "execution_count": 24,
   "id": "af804e75",
   "metadata": {},
   "outputs": [],
   "source": [
    "model = Sequential()\n",
    "model.add(LSTM(units = 50, activation = 'relu',return_sequences = True,\n",
    "              input_shape = (x_train.shape[1],1)))\n",
    "model.add(Dropout(0.2))\n",
    "\n",
    "model.add(LSTM(units = 60, activation = 'relu',return_sequences = True))\n",
    "model.add(Dropout(0.3))\n",
    "\n",
    "model.add(LSTM(units = 80, activation = 'relu',return_sequences = True)) \n",
    "model.add(Dropout(0.4))\n",
    "\n",
    "model.add(LSTM(units = 80, activation = 'relu')) \n",
    "model.add(Dropout(0.5))\n",
    "\n",
    "model.add(Dense(units = 1))"
   ]
  },
  {
   "cell_type": "code",
   "execution_count": 25,
   "id": "86fc30c8",
   "metadata": {},
   "outputs": [
    {
     "name": "stdout",
     "output_type": "stream",
     "text": [
      "Model: \"sequential\"\n",
      "_________________________________________________________________\n",
      " Layer (type)                Output Shape              Param #   \n",
      "=================================================================\n",
      " lstm (LSTM)                 (None, 100, 50)           10400     \n",
      "                                                                 \n",
      " dropout (Dropout)           (None, 100, 50)           0         \n",
      "                                                                 \n",
      " lstm_1 (LSTM)               (None, 100, 60)           26640     \n",
      "                                                                 \n",
      " dropout_1 (Dropout)         (None, 100, 60)           0         \n",
      "                                                                 \n",
      " lstm_2 (LSTM)               (None, 100, 80)           45120     \n",
      "                                                                 \n",
      " dropout_2 (Dropout)         (None, 100, 80)           0         \n",
      "                                                                 \n",
      " lstm_3 (LSTM)               (None, 80)                51520     \n",
      "                                                                 \n",
      " dropout_3 (Dropout)         (None, 80)                0         \n",
      "                                                                 \n",
      " dense (Dense)               (None, 1)                 81        \n",
      "                                                                 \n",
      "=================================================================\n",
      "Total params: 133,761\n",
      "Trainable params: 133,761\n",
      "Non-trainable params: 0\n",
      "_________________________________________________________________\n"
     ]
    }
   ],
   "source": [
    "model.summary()"
   ]
  },
  {
   "cell_type": "code",
   "execution_count": 26,
   "id": "b039eac8",
   "metadata": {},
   "outputs": [
    {
     "name": "stdout",
     "output_type": "stream",
     "text": [
      "Epoch 1/50\n",
      "3/3 [==============================] - 19s 291ms/step - loss: 0.2937\n",
      "Epoch 2/50\n",
      "3/3 [==============================] - 1s 300ms/step - loss: 0.2080\n",
      "Epoch 3/50\n",
      "3/3 [==============================] - 1s 280ms/step - loss: 0.0694\n",
      "Epoch 4/50\n",
      "3/3 [==============================] - 1s 290ms/step - loss: 0.0514\n",
      "Epoch 5/50\n",
      "3/3 [==============================] - 1s 294ms/step - loss: 0.0268\n",
      "Epoch 6/50\n",
      "3/3 [==============================] - 1s 256ms/step - loss: 0.0304\n",
      "Epoch 7/50\n",
      "3/3 [==============================] - 1s 264ms/step - loss: 0.0366\n",
      "Epoch 8/50\n",
      "3/3 [==============================] - 1s 290ms/step - loss: 0.0252\n",
      "Epoch 9/50\n",
      "3/3 [==============================] - 1s 305ms/step - loss: 0.0251\n",
      "Epoch 10/50\n",
      "3/3 [==============================] - 1s 255ms/step - loss: 0.0198\n",
      "Epoch 11/50\n",
      "3/3 [==============================] - 1s 277ms/step - loss: 0.0194\n",
      "Epoch 12/50\n",
      "3/3 [==============================] - 1s 267ms/step - loss: 0.0178\n",
      "Epoch 13/50\n",
      "3/3 [==============================] - 1s 275ms/step - loss: 0.0210\n",
      "Epoch 14/50\n",
      "3/3 [==============================] - 1s 286ms/step - loss: 0.0164\n",
      "Epoch 15/50\n",
      "3/3 [==============================] - 1s 262ms/step - loss: 0.0164\n",
      "Epoch 16/50\n",
      "3/3 [==============================] - 1s 306ms/step - loss: 0.0183\n",
      "Epoch 17/50\n",
      "3/3 [==============================] - 1s 300ms/step - loss: 0.0172\n",
      "Epoch 18/50\n",
      "3/3 [==============================] - 1s 299ms/step - loss: 0.0132\n",
      "Epoch 19/50\n",
      "3/3 [==============================] - 1s 287ms/step - loss: 0.0200\n",
      "Epoch 20/50\n",
      "3/3 [==============================] - 1s 301ms/step - loss: 0.0162\n",
      "Epoch 21/50\n",
      "3/3 [==============================] - 1s 287ms/step - loss: 0.0159\n",
      "Epoch 22/50\n",
      "3/3 [==============================] - 1s 284ms/step - loss: 0.0168\n",
      "Epoch 23/50\n",
      "3/3 [==============================] - 1s 287ms/step - loss: 0.0154\n",
      "Epoch 24/50\n",
      "3/3 [==============================] - 1s 279ms/step - loss: 0.0151\n",
      "Epoch 25/50\n",
      "3/3 [==============================] - 1s 280ms/step - loss: 0.0161\n",
      "Epoch 26/50\n",
      "3/3 [==============================] - 1s 268ms/step - loss: 0.0177\n",
      "Epoch 27/50\n",
      "3/3 [==============================] - 1s 277ms/step - loss: 0.0209\n",
      "Epoch 28/50\n",
      "3/3 [==============================] - 1s 252ms/step - loss: 0.0133\n",
      "Epoch 29/50\n",
      "3/3 [==============================] - 1s 274ms/step - loss: 0.0154\n",
      "Epoch 30/50\n",
      "3/3 [==============================] - 1s 267ms/step - loss: 0.0142\n",
      "Epoch 31/50\n",
      "3/3 [==============================] - 1s 301ms/step - loss: 0.0110\n",
      "Epoch 32/50\n",
      "3/3 [==============================] - 1s 282ms/step - loss: 0.0182\n",
      "Epoch 33/50\n",
      "3/3 [==============================] - 1s 385ms/step - loss: 0.0184\n",
      "Epoch 34/50\n",
      "3/3 [==============================] - 1s 298ms/step - loss: 0.0159\n",
      "Epoch 35/50\n",
      "3/3 [==============================] - 1s 297ms/step - loss: 0.0151\n",
      "Epoch 36/50\n",
      "3/3 [==============================] - 1s 282ms/step - loss: 0.0129\n",
      "Epoch 37/50\n",
      "3/3 [==============================] - 1s 319ms/step - loss: 0.0154\n",
      "Epoch 38/50\n",
      "3/3 [==============================] - 1s 310ms/step - loss: 0.0172\n",
      "Epoch 39/50\n",
      "3/3 [==============================] - 1s 298ms/step - loss: 0.0166\n",
      "Epoch 40/50\n",
      "3/3 [==============================] - 1s 306ms/step - loss: 0.0238\n",
      "Epoch 41/50\n",
      "3/3 [==============================] - 1s 313ms/step - loss: 0.0141\n",
      "Epoch 42/50\n",
      "3/3 [==============================] - 1s 290ms/step - loss: 0.0164\n",
      "Epoch 43/50\n",
      "3/3 [==============================] - 1s 289ms/step - loss: 0.0147\n",
      "Epoch 44/50\n",
      "3/3 [==============================] - 1s 304ms/step - loss: 0.0128\n",
      "Epoch 45/50\n",
      "3/3 [==============================] - 1s 357ms/step - loss: 0.0149\n",
      "Epoch 46/50\n",
      "3/3 [==============================] - 1s 357ms/step - loss: 0.0138\n",
      "Epoch 47/50\n",
      "3/3 [==============================] - 1s 282ms/step - loss: 0.0145\n",
      "Epoch 48/50\n",
      "3/3 [==============================] - 1s 304ms/step - loss: 0.0215\n",
      "Epoch 49/50\n",
      "3/3 [==============================] - 1s 305ms/step - loss: 0.0157\n",
      "Epoch 50/50\n",
      "3/3 [==============================] - 1s 297ms/step - loss: 0.0137\n"
     ]
    },
    {
     "data": {
      "text/plain": [
       "<keras.callbacks.History at 0x1c19ed27700>"
      ]
     },
     "execution_count": 26,
     "metadata": {},
     "output_type": "execute_result"
    }
   ],
   "source": [
    "model.compile(optimizer='adam', loss = 'mean_squared_error')\n",
    "model.fit(x_train, y_train, epochs = 50)"
   ]
  },
  {
   "cell_type": "code",
   "execution_count": 27,
   "id": "84c8eb9c",
   "metadata": {},
   "outputs": [],
   "source": [
    "model.save('Keras_model.h5')\n"
   ]
  },
  {
   "cell_type": "code",
   "execution_count": 28,
   "id": "25de8a5d",
   "metadata": {},
   "outputs": [
    {
     "data": {
      "text/html": [
       "<div>\n",
       "<style scoped>\n",
       "    .dataframe tbody tr th:only-of-type {\n",
       "        vertical-align: middle;\n",
       "    }\n",
       "\n",
       "    .dataframe tbody tr th {\n",
       "        vertical-align: top;\n",
       "    }\n",
       "\n",
       "    .dataframe thead th {\n",
       "        text-align: right;\n",
       "    }\n",
       "</style>\n",
       "<table border=\"1\" class=\"dataframe\">\n",
       "  <thead>\n",
       "    <tr style=\"text-align: right;\">\n",
       "      <th></th>\n",
       "      <th>Close</th>\n",
       "    </tr>\n",
       "  </thead>\n",
       "  <tbody>\n",
       "    <tr>\n",
       "      <th>175</th>\n",
       "      <td>260.500000</td>\n",
       "    </tr>\n",
       "    <tr>\n",
       "      <th>176</th>\n",
       "      <td>261.899994</td>\n",
       "    </tr>\n",
       "    <tr>\n",
       "      <th>177</th>\n",
       "      <td>264.600006</td>\n",
       "    </tr>\n",
       "    <tr>\n",
       "      <th>178</th>\n",
       "      <td>266.350006</td>\n",
       "    </tr>\n",
       "    <tr>\n",
       "      <th>179</th>\n",
       "      <td>271.049988</td>\n",
       "    </tr>\n",
       "  </tbody>\n",
       "</table>\n",
       "</div>"
      ],
      "text/plain": [
       "          Close\n",
       "175  260.500000\n",
       "176  261.899994\n",
       "177  264.600006\n",
       "178  266.350006\n",
       "179  271.049988"
      ]
     },
     "execution_count": 28,
     "metadata": {},
     "output_type": "execute_result"
    }
   ],
   "source": [
    "data_testing.head()"
   ]
  },
  {
   "cell_type": "code",
   "execution_count": 29,
   "id": "6339ab64",
   "metadata": {},
   "outputs": [
    {
     "data": {
      "text/html": [
       "<div>\n",
       "<style scoped>\n",
       "    .dataframe tbody tr th:only-of-type {\n",
       "        vertical-align: middle;\n",
       "    }\n",
       "\n",
       "    .dataframe tbody tr th {\n",
       "        vertical-align: top;\n",
       "    }\n",
       "\n",
       "    .dataframe thead th {\n",
       "        text-align: right;\n",
       "    }\n",
       "</style>\n",
       "<table border=\"1\" class=\"dataframe\">\n",
       "  <thead>\n",
       "    <tr style=\"text-align: right;\">\n",
       "      <th></th>\n",
       "      <th>Close</th>\n",
       "    </tr>\n",
       "  </thead>\n",
       "  <tbody>\n",
       "    <tr>\n",
       "      <th>175</th>\n",
       "      <td>260.500000</td>\n",
       "    </tr>\n",
       "    <tr>\n",
       "      <th>176</th>\n",
       "      <td>261.899994</td>\n",
       "    </tr>\n",
       "    <tr>\n",
       "      <th>177</th>\n",
       "      <td>264.600006</td>\n",
       "    </tr>\n",
       "    <tr>\n",
       "      <th>178</th>\n",
       "      <td>266.350006</td>\n",
       "    </tr>\n",
       "    <tr>\n",
       "      <th>179</th>\n",
       "      <td>271.049988</td>\n",
       "    </tr>\n",
       "    <tr>\n",
       "      <th>...</th>\n",
       "      <td>...</td>\n",
       "    </tr>\n",
       "    <tr>\n",
       "      <th>245</th>\n",
       "      <td>196.649994</td>\n",
       "    </tr>\n",
       "    <tr>\n",
       "      <th>246</th>\n",
       "      <td>193.800003</td>\n",
       "    </tr>\n",
       "    <tr>\n",
       "      <th>247</th>\n",
       "      <td>193.600006</td>\n",
       "    </tr>\n",
       "    <tr>\n",
       "      <th>248</th>\n",
       "      <td>188.300003</td>\n",
       "    </tr>\n",
       "    <tr>\n",
       "      <th>249</th>\n",
       "      <td>192.449997</td>\n",
       "    </tr>\n",
       "  </tbody>\n",
       "</table>\n",
       "<p>75 rows × 1 columns</p>\n",
       "</div>"
      ],
      "text/plain": [
       "          Close\n",
       "175  260.500000\n",
       "176  261.899994\n",
       "177  264.600006\n",
       "178  266.350006\n",
       "179  271.049988\n",
       "..          ...\n",
       "245  196.649994\n",
       "246  193.800003\n",
       "247  193.600006\n",
       "248  188.300003\n",
       "249  192.449997\n",
       "\n",
       "[75 rows x 1 columns]"
      ]
     },
     "execution_count": 29,
     "metadata": {},
     "output_type": "execute_result"
    }
   ],
   "source": [
    "data_testing.tail(100)"
   ]
  },
  {
   "cell_type": "code",
   "execution_count": 30,
   "id": "3e5686c4",
   "metadata": {},
   "outputs": [],
   "source": [
    "past_100_days = data_training.tail(100)"
   ]
  },
  {
   "cell_type": "code",
   "execution_count": 31,
   "id": "34abda1b",
   "metadata": {},
   "outputs": [
    {
     "name": "stderr",
     "output_type": "stream",
     "text": [
      "C:\\Users\\praja\\AppData\\Local\\Temp\\ipykernel_10428\\531349220.py:1: FutureWarning: The frame.append method is deprecated and will be removed from pandas in a future version. Use pandas.concat instead.\n",
      "  final_df = past_100_days.append(data_testing, ignore_index=True)\n"
     ]
    }
   ],
   "source": [
    "final_df = past_100_days.append(data_testing, ignore_index=True)"
   ]
  },
  {
   "cell_type": "code",
   "execution_count": 32,
   "id": "fad04fc2",
   "metadata": {},
   "outputs": [
    {
     "data": {
      "text/html": [
       "<div>\n",
       "<style scoped>\n",
       "    .dataframe tbody tr th:only-of-type {\n",
       "        vertical-align: middle;\n",
       "    }\n",
       "\n",
       "    .dataframe tbody tr th {\n",
       "        vertical-align: top;\n",
       "    }\n",
       "\n",
       "    .dataframe thead th {\n",
       "        text-align: right;\n",
       "    }\n",
       "</style>\n",
       "<table border=\"1\" class=\"dataframe\">\n",
       "  <thead>\n",
       "    <tr style=\"text-align: right;\">\n",
       "      <th></th>\n",
       "      <th>Close</th>\n",
       "    </tr>\n",
       "  </thead>\n",
       "  <tbody>\n",
       "    <tr>\n",
       "      <th>0</th>\n",
       "      <td>215.300003</td>\n",
       "    </tr>\n",
       "    <tr>\n",
       "      <th>1</th>\n",
       "      <td>219.199997</td>\n",
       "    </tr>\n",
       "    <tr>\n",
       "      <th>2</th>\n",
       "      <td>215.350006</td>\n",
       "    </tr>\n",
       "    <tr>\n",
       "      <th>3</th>\n",
       "      <td>223.649994</td>\n",
       "    </tr>\n",
       "    <tr>\n",
       "      <th>4</th>\n",
       "      <td>223.050003</td>\n",
       "    </tr>\n",
       "  </tbody>\n",
       "</table>\n",
       "</div>"
      ],
      "text/plain": [
       "        Close\n",
       "0  215.300003\n",
       "1  219.199997\n",
       "2  215.350006\n",
       "3  223.649994\n",
       "4  223.050003"
      ]
     },
     "execution_count": 32,
     "metadata": {},
     "output_type": "execute_result"
    }
   ],
   "source": [
    "final_df.head()"
   ]
  },
  {
   "cell_type": "code",
   "execution_count": 33,
   "id": "c0db4807",
   "metadata": {},
   "outputs": [
    {
     "data": {
      "text/plain": [
       "array([[0.32726362],\n",
       "       [0.36671728],\n",
       "       [0.32776947],\n",
       "       [0.41173496],\n",
       "       [0.40566525],\n",
       "       [0.41375835],\n",
       "       [0.41679313],\n",
       "       [0.38290349],\n",
       "       [0.4061711 ],\n",
       "       [0.41932221],\n",
       "       [0.4213456 ],\n",
       "       [0.48406687],\n",
       "       [0.48153779],\n",
       "       [0.48153779],\n",
       "       [0.52604962],\n",
       "       [0.53363687],\n",
       "       [0.51138096],\n",
       "       [0.5285787 ],\n",
       "       [0.57612547],\n",
       "       [0.65857372],\n",
       "       [0.64795153],\n",
       "       [0.7106728 ],\n",
       "       [0.64997477],\n",
       "       [0.5862418 ],\n",
       "       [0.6039454 ],\n",
       "       [0.61608513],\n",
       "       [0.69094597],\n",
       "       [0.67728885],\n",
       "       [0.65857372],\n",
       "       [0.5953466 ],\n",
       "       [0.55488125],\n",
       "       [0.70156816],\n",
       "       [0.70561463],\n",
       "       [0.78199302],\n",
       "       [0.77086499],\n",
       "       [0.74658584],\n",
       "       [0.8189176 ],\n",
       "       [0.80374309],\n",
       "       [0.76074865],\n",
       "       [0.69195767],\n",
       "       [0.74962061],\n",
       "       [0.62518977],\n",
       "       [0.66565513],\n",
       "       [0.68841689],\n",
       "       [0.66413774],\n",
       "       [0.7860395 ],\n",
       "       [0.75012662],\n",
       "       [0.81487112],\n",
       "       [0.88416811],\n",
       "       [0.89529614],\n",
       "       [0.9671219 ],\n",
       "       [0.9185636 ],\n",
       "       [0.79160367],\n",
       "       [0.84774922],\n",
       "       [0.88720288],\n",
       "       [0.89529614],\n",
       "       [0.91502282],\n",
       "       [0.78907458],\n",
       "       [0.75771387],\n",
       "       [0.80981295],\n",
       "       [0.74759753],\n",
       "       [0.68942858],\n",
       "       [0.76074865],\n",
       "       [0.70055646],\n",
       "       [0.86241804],\n",
       "       [0.98128502],\n",
       "       [1.        ],\n",
       "       [0.9676279 ],\n",
       "       [0.90743556],\n",
       "       [0.85988895],\n",
       "       [0.91249373],\n",
       "       [0.85432478],\n",
       "       [0.81689451],\n",
       "       [0.88821458],\n",
       "       [0.89276706],\n",
       "       [0.89074366],\n",
       "       [0.84977262],\n",
       "       [0.85483078],\n",
       "       [0.80930726],\n",
       "       [0.83915027],\n",
       "       [0.81031865],\n",
       "       [0.80424909],\n",
       "       [0.80475478],\n",
       "       [0.82953994],\n",
       "       [0.85432478],\n",
       "       [0.83105733],\n",
       "       [0.82397577],\n",
       "       [0.80424909],\n",
       "       [0.79666184],\n",
       "       [0.83864458],\n",
       "       [0.77541746],\n",
       "       [0.78098133],\n",
       "       [0.72635316],\n",
       "       [0.70814372],\n",
       "       [0.6868995 ],\n",
       "       [0.64896323],\n",
       "       [0.69853323],\n",
       "       [0.71674267],\n",
       "       [0.70612048],\n",
       "       [0.77339407],\n",
       "       [0.78452211],\n",
       "       [0.79868492],\n",
       "       [0.82599916],\n",
       "       [0.84370275],\n",
       "       [0.89124936],\n",
       "       [0.86241804],\n",
       "       [0.82347007],\n",
       "       [0.79210936],\n",
       "       [0.80627217],\n",
       "       [0.7865455 ],\n",
       "       [0.80526048],\n",
       "       [0.7860395 ],\n",
       "       [0.80374309],\n",
       "       [0.76226604],\n",
       "       [0.68386457],\n",
       "       [0.69903907],\n",
       "       [0.69094597],\n",
       "       [0.65048062],\n",
       "       [0.62974209],\n",
       "       [0.52706131],\n",
       "       [0.56752667],\n",
       "       [0.56752667],\n",
       "       [0.56752667],\n",
       "       [0.56954991],\n",
       "       [0.57764301],\n",
       "       [0.60849787],\n",
       "       [0.57814886],\n",
       "       [0.5462823 ],\n",
       "       [0.57460808],\n",
       "       [0.55488125],\n",
       "       [0.5462823 ],\n",
       "       [0.49114828],\n",
       "       [0.46332835],\n",
       "       [0.44916554],\n",
       "       [0.47850286],\n",
       "       [0.47243299],\n",
       "       [0.45928188],\n",
       "       [0.47647962],\n",
       "       [0.41932221],\n",
       "       [0.40263032],\n",
       "       [0.41375835],\n",
       "       [0.40313616],\n",
       "       [0.37481038],\n",
       "       [0.32776947],\n",
       "       [0.36823483],\n",
       "       [0.44360152],\n",
       "       [0.38796166],\n",
       "       [0.39554891],\n",
       "       [0.38088025],\n",
       "       [0.4132525 ],\n",
       "       [0.38796166],\n",
       "       [0.40667679],\n",
       "       [0.42033391],\n",
       "       [0.4390492 ],\n",
       "       [0.35811849],\n",
       "       [0.33687411],\n",
       "       [0.31917052],\n",
       "       [0.3136065 ],\n",
       "       [0.32675777],\n",
       "       [0.32372284],\n",
       "       [0.28022255],\n",
       "       [0.23672242],\n",
       "       [0.15882649],\n",
       "       [0.12746593],\n",
       "       [0.        ],\n",
       "       [0.12797178],\n",
       "       [0.16489635],\n",
       "       [0.13302995],\n",
       "       [0.17248361],\n",
       "       [0.12594839],\n",
       "       [0.13859381],\n",
       "       [0.10976234],\n",
       "       [0.1077391 ],\n",
       "       [0.05412247],\n",
       "       [0.09610522]])"
      ]
     },
     "execution_count": 33,
     "metadata": {},
     "output_type": "execute_result"
    }
   ],
   "source": [
    "input_data = scaler.fit_transform(final_df)\n",
    "input_data"
   ]
  },
  {
   "cell_type": "code",
   "execution_count": 34,
   "id": "ace8015c",
   "metadata": {},
   "outputs": [
    {
     "data": {
      "text/plain": [
       "(175, 1)"
      ]
     },
     "execution_count": 34,
     "metadata": {},
     "output_type": "execute_result"
    }
   ],
   "source": [
    "input_data.shape"
   ]
  },
  {
   "cell_type": "code",
   "execution_count": 35,
   "id": "9e381193",
   "metadata": {},
   "outputs": [],
   "source": [
    "x_test = []\n",
    "y_test = []\n",
    "\n",
    "for i in range(100, input_data.shape[0]):\n",
    "    x_test.append(input_data[i-100: i])\n",
    "    y_test.append(input_data[i, 0])"
   ]
  },
  {
   "cell_type": "code",
   "execution_count": 36,
   "id": "bc6b1895",
   "metadata": {},
   "outputs": [
    {
     "name": "stdout",
     "output_type": "stream",
     "text": [
      "(75, 100, 1)\n",
      "(75,)\n"
     ]
    }
   ],
   "source": [
    "x_test, y_test = np.array(x_test), np.array(y_test)\n",
    "print(x_test.shape)\n",
    "print(y_test.shape)"
   ]
  },
  {
   "cell_type": "code",
   "execution_count": 37,
   "id": "43512bff",
   "metadata": {},
   "outputs": [
    {
     "name": "stdout",
     "output_type": "stream",
     "text": [
      "3/3 [==============================] - 3s 76ms/step\n"
     ]
    }
   ],
   "source": [
    "# making prediction\n",
    "y_predicted = model.predict(x_test)"
   ]
  },
  {
   "cell_type": "code",
   "execution_count": 38,
   "id": "22020091",
   "metadata": {},
   "outputs": [
    {
     "data": {
      "text/plain": [
       "(75, 1)"
      ]
     },
     "execution_count": 38,
     "metadata": {},
     "output_type": "execute_result"
    }
   ],
   "source": [
    "y_predicted.shape"
   ]
  },
  {
   "cell_type": "code",
   "execution_count": 39,
   "id": "b5d1e5ef",
   "metadata": {},
   "outputs": [
    {
     "data": {
      "text/plain": [
       "array([0.78452211, 0.79868492, 0.82599916, 0.84370275, 0.89124936,\n",
       "       0.86241804, 0.82347007, 0.79210936, 0.80627217, 0.7865455 ,\n",
       "       0.80526048, 0.7860395 , 0.80374309, 0.76226604, 0.68386457,\n",
       "       0.69903907, 0.69094597, 0.65048062, 0.62974209, 0.52706131,\n",
       "       0.56752667, 0.56752667, 0.56752667, 0.56954991, 0.57764301,\n",
       "       0.60849787, 0.57814886, 0.5462823 , 0.57460808, 0.55488125,\n",
       "       0.5462823 , 0.49114828, 0.46332835, 0.44916554, 0.47850286,\n",
       "       0.47243299, 0.45928188, 0.47647962, 0.41932221, 0.40263032,\n",
       "       0.41375835, 0.40313616, 0.37481038, 0.32776947, 0.36823483,\n",
       "       0.44360152, 0.38796166, 0.39554891, 0.38088025, 0.4132525 ,\n",
       "       0.38796166, 0.40667679, 0.42033391, 0.4390492 , 0.35811849,\n",
       "       0.33687411, 0.31917052, 0.3136065 , 0.32675777, 0.32372284,\n",
       "       0.28022255, 0.23672242, 0.15882649, 0.12746593, 0.        ,\n",
       "       0.12797178, 0.16489635, 0.13302995, 0.17248361, 0.12594839,\n",
       "       0.13859381, 0.10976234, 0.1077391 , 0.05412247, 0.09610522])"
      ]
     },
     "execution_count": 39,
     "metadata": {},
     "output_type": "execute_result"
    }
   ],
   "source": [
    "y_test"
   ]
  },
  {
   "cell_type": "code",
   "execution_count": 40,
   "id": "9ea1c2d1",
   "metadata": {},
   "outputs": [
    {
     "data": {
      "text/plain": [
       "array([[0.6136627 ],\n",
       "       [0.61178696],\n",
       "       [0.6100439 ],\n",
       "       [0.6085185 ],\n",
       "       [0.6072829 ],\n",
       "       [0.60641086],\n",
       "       [0.6059328 ],\n",
       "       [0.6058229 ],\n",
       "       [0.60601056],\n",
       "       [0.60642195],\n",
       "       [0.6069764 ],\n",
       "       [0.6076128 ],\n",
       "       [0.60827386],\n",
       "       [0.6089244 ],\n",
       "       [0.60951823],\n",
       "       [0.6099715 ],\n",
       "       [0.6102186 ],\n",
       "       [0.6102138 ],\n",
       "       [0.60991395],\n",
       "       [0.60928464],\n",
       "       [0.60825884],\n",
       "       [0.6068102 ],\n",
       "       [0.60494745],\n",
       "       [0.60270756],\n",
       "       [0.60014856],\n",
       "       [0.5973439 ],\n",
       "       [0.5943884 ],\n",
       "       [0.5913596 ],\n",
       "       [0.58830523],\n",
       "       [0.58527535],\n",
       "       [0.58230495],\n",
       "       [0.57941633],\n",
       "       [0.5765964 ],\n",
       "       [0.5738112 ],\n",
       "       [0.5710229 ],\n",
       "       [0.56822133],\n",
       "       [0.56541044],\n",
       "       [0.562598  ],\n",
       "       [0.55980676],\n",
       "       [0.5570347 ],\n",
       "       [0.55426675],\n",
       "       [0.5514984 ],\n",
       "       [0.54872906],\n",
       "       [0.5459448 ],\n",
       "       [0.54310215],\n",
       "       [0.54018897],\n",
       "       [0.53726107],\n",
       "       [0.53436196],\n",
       "       [0.53153384],\n",
       "       [0.5288034 ],\n",
       "       [0.5262102 ],\n",
       "       [0.5237753 ],\n",
       "       [0.52152187],\n",
       "       [0.5194755 ],\n",
       "       [0.5176655 ],\n",
       "       [0.5160612 ],\n",
       "       [0.5145971 ],\n",
       "       [0.513192  ],\n",
       "       [0.51176953],\n",
       "       [0.5102813 ],\n",
       "       [0.50870085],\n",
       "       [0.50699025],\n",
       "       [0.50509053],\n",
       "       [0.50290155],\n",
       "       [0.5003212 ],\n",
       "       [0.49720392],\n",
       "       [0.49350584],\n",
       "       [0.4892772 ],\n",
       "       [0.48459974],\n",
       "       [0.47959843],\n",
       "       [0.47438243],\n",
       "       [0.46905848],\n",
       "       [0.46370944],\n",
       "       [0.45840135],\n",
       "       [0.45316097]], dtype=float32)"
      ]
     },
     "execution_count": 40,
     "metadata": {},
     "output_type": "execute_result"
    }
   ],
   "source": [
    "y_predicted"
   ]
  },
  {
   "cell_type": "code",
   "execution_count": 41,
   "id": "bfb16d29",
   "metadata": {},
   "outputs": [
    {
     "data": {
      "text/plain": [
       "array([0.01011634])"
      ]
     },
     "execution_count": 41,
     "metadata": {},
     "output_type": "execute_result"
    }
   ],
   "source": [
    "scaler.scale_"
   ]
  },
  {
   "cell_type": "code",
   "execution_count": 42,
   "id": "3a0c7084",
   "metadata": {},
   "outputs": [],
   "source": [
    "scale_factor = 1/0.02099517\n",
    "y_predicted = y_predicted * scale_factor\n",
    "y_test =y_test * scale_factor"
   ]
  },
  {
   "cell_type": "code",
   "execution_count": 43,
   "id": "a547e7ab",
   "metadata": {},
   "outputs": [
    {
     "data": {
      "image/png": "[encoded data removed]",
      "text/plain": [
       "<Figure size 1200x600 with 1 Axes>"
      ]
     },
     "metadata": {},
     "output_type": "display_data"
    }
   ],
   "source": [
    "plt.figure(figsize=(12,6))\n",
    "plt.plot(y_test, 'b', label= 'Original Price')\n",
    "plt.plot(y_predicted, 'r', label = 'Predicted price')\n",
    "plt.xlabel('Time')\n",
    "plt.ylabel('Price')\n",
    "plt.legend()\n",
    "plt.show()\n"
   ]
  },
  {
   "cell_type": "code",
   "execution_count": null,
   "id": "6bb085bf",
   "metadata": {},
   "outputs": [],
   "source": []
  },
  {
   "cell_type": "code",
   "execution_count": null,
   "id": "0313e658",
   "metadata": {},
   "outputs": [],
   "source": []
  },
  {
   "cell_type": "code",
   "execution_count": null,
   "id": "e5ad91ce",
   "metadata": {},
   "outputs": [],
   "source": []
  }
 ],
 "metadata": {
  "kernelspec": {
   "display_name": "Python 3 (ipykernel)",
   "language": "python",
   "name": "python3"
  },
  "language_info": {
   "codemirror_mode": {
    "name": "ipython",
    "version": 3
   },
   "file_extension": ".py",
   "mimetype": "text/x-python",
   "name": "python",
   "nbconvert_exporter": "python",
   "pygments_lexer": "ipython3",
   "version": "3.10.9"
  }
 },
 "nbformat": 4,
 "nbformat_minor": 5
}
