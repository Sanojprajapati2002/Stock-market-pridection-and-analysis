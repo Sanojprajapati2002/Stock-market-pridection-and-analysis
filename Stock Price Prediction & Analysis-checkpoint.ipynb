{
 "cells": [
  {
   "cell_type": "code",
   "execution_count": 1,
   "id": "5f910602",
   "metadata": {},
   "outputs": [],
   "source": [
    "import numpy as np\n",
    "import pandas as pd\n",
    "import matplotlib.pyplot as plt\n",
    "import yfinance as yf\n"
   ]
  },
  {
   "cell_type": "code",
   "execution_count": 2,
   "id": "7df8314e",
   "metadata": {},
   "outputs": [],
   "source": [
    "stock_symbol = \"COALINDIA.NS\""
   ]
  },
  {
   "cell_type": "code",
   "execution_count": 3,
   "id": "80360505",
   "metadata": {},
   "outputs": [
    {
     "name": "stdout",
     "output_type": "stream",
     "text": [
      "[*********************100%***********************]  1 of 1 completed\n"
     ]
    }
   ],
   "source": [
    "df = yf.download(tickers=stock_symbol,period='1y', interval='1D')"
   ]
  },
  {
   "cell_type": "code",
   "execution_count": 4,
   "id": "f164dcbe",
   "metadata": {},
   "outputs": [
    {
     "data": {
      "text/plain": [
       "pandas.core.frame.DataFrame"
      ]
     },
     "execution_count": 4,
     "metadata": {},
     "output_type": "execute_result"
    }
   ],
   "source": [
    "type(df)"
   ]
  },
  {
   "cell_type": "code",
   "execution_count": 5,
   "id": "abff6383",
   "metadata": {},
   "outputs": [
    {
     "data": {
      "text/html": [
       "<div>\n",
       "<style scoped>\n",
       "    .dataframe tbody tr th:only-of-type {\n",
       "        vertical-align: middle;\n",
       "    }\n",
       "\n",
       "    .dataframe tbody tr th {\n",
       "        vertical-align: top;\n",
       "    }\n",
       "\n",
       "    .dataframe thead th {\n",
       "        text-align: right;\n",
       "    }\n",
       "</style>\n",
       "<table border=\"1\" class=\"dataframe\">\n",
       "  <thead>\n",
       "    <tr style=\"text-align: right;\">\n",
       "      <th></th>\n",
       "      <th>Open</th>\n",
       "      <th>High</th>\n",
       "      <th>Low</th>\n",
       "      <th>Close</th>\n",
       "      <th>Adj Close</th>\n",
       "      <th>Volume</th>\n",
       "    </tr>\n",
       "    <tr>\n",
       "      <th>Date</th>\n",
       "      <th></th>\n",
       "      <th></th>\n",
       "      <th></th>\n",
       "      <th></th>\n",
       "      <th></th>\n",
       "      <th></th>\n",
       "    </tr>\n",
       "  </thead>\n",
       "  <tbody>\n",
       "    <tr>\n",
       "      <th>2022-03-17</th>\n",
       "      <td>259.799988</td>\n",
       "      <td>261.750000</td>\n",
       "      <td>255.800003</td>\n",
       "      <td>258.799988</td>\n",
       "      <td>256.012695</td>\n",
       "      <td>9120713</td>\n",
       "    </tr>\n",
       "    <tr>\n",
       "      <th>2022-03-21</th>\n",
       "      <td>258.950012</td>\n",
       "      <td>263.299988</td>\n",
       "      <td>256.100006</td>\n",
       "      <td>256.799988</td>\n",
       "      <td>254.034225</td>\n",
       "      <td>8909916</td>\n",
       "    </tr>\n",
       "    <tr>\n",
       "      <th>2022-03-22</th>\n",
       "      <td>257.000000</td>\n",
       "      <td>258.700012</td>\n",
       "      <td>243.050003</td>\n",
       "      <td>248.550003</td>\n",
       "      <td>245.873093</td>\n",
       "      <td>14965332</td>\n",
       "    </tr>\n",
       "    <tr>\n",
       "      <th>2022-03-23</th>\n",
       "      <td>251.000000</td>\n",
       "      <td>260.899994</td>\n",
       "      <td>244.199997</td>\n",
       "      <td>256.049988</td>\n",
       "      <td>253.292313</td>\n",
       "      <td>18175302</td>\n",
       "    </tr>\n",
       "    <tr>\n",
       "      <th>2022-03-24</th>\n",
       "      <td>281.649994</td>\n",
       "      <td>307.250000</td>\n",
       "      <td>281.649994</td>\n",
       "      <td>298.899994</td>\n",
       "      <td>295.680817</td>\n",
       "      <td>86772872</td>\n",
       "    </tr>\n",
       "  </tbody>\n",
       "</table>\n",
       "</div>"
      ],
      "text/plain": [
       "                  Open        High         Low       Close   Adj Close  \\\n",
       "Date                                                                     \n",
       "2022-03-17  259.799988  261.750000  255.800003  258.799988  256.012695   \n",
       "2022-03-21  258.950012  263.299988  256.100006  256.799988  254.034225   \n",
       "2022-03-22  257.000000  258.700012  243.050003  248.550003  245.873093   \n",
       "2022-03-23  251.000000  260.899994  244.199997  256.049988  253.292313   \n",
       "2022-03-24  281.649994  307.250000  281.649994  298.899994  295.680817   \n",
       "\n",
       "              Volume  \n",
       "Date                  \n",
       "2022-03-17   9120713  \n",
       "2022-03-21   8909916  \n",
       "2022-03-22  14965332  \n",
       "2022-03-23  18175302  \n",
       "2022-03-24  86772872  "
      ]
     },
     "execution_count": 5,
     "metadata": {},
     "output_type": "execute_result"
    }
   ],
   "source": [
    "df.head()\n"
   ]
  },
  {
   "cell_type": "code",
   "execution_count": 6,
   "id": "14c639c0",
   "metadata": {},
   "outputs": [
    {
     "data": {
      "text/html": [
       "<div>\n",
       "<style scoped>\n",
       "    .dataframe tbody tr th:only-of-type {\n",
       "        vertical-align: middle;\n",
       "    }\n",
       "\n",
       "    .dataframe tbody tr th {\n",
       "        vertical-align: top;\n",
       "    }\n",
       "\n",
       "    .dataframe thead th {\n",
       "        text-align: right;\n",
       "    }\n",
       "</style>\n",
       "<table border=\"1\" class=\"dataframe\">\n",
       "  <thead>\n",
       "    <tr style=\"text-align: right;\">\n",
       "      <th></th>\n",
       "      <th>Open</th>\n",
       "      <th>High</th>\n",
       "      <th>Low</th>\n",
       "      <th>Close</th>\n",
       "      <th>Adj Close</th>\n",
       "      <th>Volume</th>\n",
       "    </tr>\n",
       "    <tr>\n",
       "      <th>Date</th>\n",
       "      <th></th>\n",
       "      <th></th>\n",
       "      <th></th>\n",
       "      <th></th>\n",
       "      <th></th>\n",
       "      <th></th>\n",
       "    </tr>\n",
       "  </thead>\n",
       "  <tbody>\n",
       "    <tr>\n",
       "      <th>2023-03-13</th>\n",
       "      <td>193.699997</td>\n",
       "      <td>194.449997</td>\n",
       "      <td>186.399994</td>\n",
       "      <td>188.300003</td>\n",
       "      <td>188.300003</td>\n",
       "      <td>4321616</td>\n",
       "    </tr>\n",
       "    <tr>\n",
       "      <th>2023-03-14</th>\n",
       "      <td>187.199997</td>\n",
       "      <td>193.899994</td>\n",
       "      <td>187.100006</td>\n",
       "      <td>192.449997</td>\n",
       "      <td>192.449997</td>\n",
       "      <td>6511040</td>\n",
       "    </tr>\n",
       "    <tr>\n",
       "      <th>2023-03-15</th>\n",
       "      <td>193.000000</td>\n",
       "      <td>194.000000</td>\n",
       "      <td>187.500000</td>\n",
       "      <td>189.050003</td>\n",
       "      <td>189.050003</td>\n",
       "      <td>4079054</td>\n",
       "    </tr>\n",
       "    <tr>\n",
       "      <th>2023-03-16</th>\n",
       "      <td>189.100006</td>\n",
       "      <td>207.949997</td>\n",
       "      <td>187.449997</td>\n",
       "      <td>206.699997</td>\n",
       "      <td>206.699997</td>\n",
       "      <td>22589250</td>\n",
       "    </tr>\n",
       "    <tr>\n",
       "      <th>2023-03-17</th>\n",
       "      <td>205.850006</td>\n",
       "      <td>209.149994</td>\n",
       "      <td>198.199997</td>\n",
       "      <td>207.250000</td>\n",
       "      <td>207.250000</td>\n",
       "      <td>20518280</td>\n",
       "    </tr>\n",
       "  </tbody>\n",
       "</table>\n",
       "</div>"
      ],
      "text/plain": [
       "                  Open        High         Low       Close   Adj Close  \\\n",
       "Date                                                                     \n",
       "2023-03-13  193.699997  194.449997  186.399994  188.300003  188.300003   \n",
       "2023-03-14  187.199997  193.899994  187.100006  192.449997  192.449997   \n",
       "2023-03-15  193.000000  194.000000  187.500000  189.050003  189.050003   \n",
       "2023-03-16  189.100006  207.949997  187.449997  206.699997  206.699997   \n",
       "2023-03-17  205.850006  209.149994  198.199997  207.250000  207.250000   \n",
       "\n",
       "              Volume  \n",
       "Date                  \n",
       "2023-03-13   4321616  \n",
       "2023-03-14   6511040  \n",
       "2023-03-15   4079054  \n",
       "2023-03-16  22589250  \n",
       "2023-03-17  20518280  "
      ]
     },
     "execution_count": 6,
     "metadata": {},
     "output_type": "execute_result"
    }
   ],
   "source": [
    "df.tail()"
   ]
  },
  {
   "cell_type": "code",
   "execution_count": 7,
   "id": "cd49a5e3",
   "metadata": {},
   "outputs": [
    {
     "data": {
      "text/html": [
       "<div>\n",
       "<style scoped>\n",
       "    .dataframe tbody tr th:only-of-type {\n",
       "        vertical-align: middle;\n",
       "    }\n",
       "\n",
       "    .dataframe tbody tr th {\n",
       "        vertical-align: top;\n",
       "    }\n",
       "\n",
       "    .dataframe thead th {\n",
       "        text-align: right;\n",
       "    }\n",
       "</style>\n",
       "<table border=\"1\" class=\"dataframe\">\n",
       "  <thead>\n",
       "    <tr style=\"text-align: right;\">\n",
       "      <th></th>\n",
       "      <th>Date</th>\n",
       "      <th>Open</th>\n",
       "      <th>High</th>\n",
       "      <th>Low</th>\n",
       "      <th>Close</th>\n",
       "      <th>Adj Close</th>\n",
       "      <th>Volume</th>\n",
       "    </tr>\n",
       "  </thead>\n",
       "  <tbody>\n",
       "    <tr>\n",
       "      <th>0</th>\n",
       "      <td>2022-03-17</td>\n",
       "      <td>259.799988</td>\n",
       "      <td>261.750000</td>\n",
       "      <td>255.800003</td>\n",
       "      <td>258.799988</td>\n",
       "      <td>256.012695</td>\n",
       "      <td>9120713</td>\n",
       "    </tr>\n",
       "    <tr>\n",
       "      <th>1</th>\n",
       "      <td>2022-03-21</td>\n",
       "      <td>258.950012</td>\n",
       "      <td>263.299988</td>\n",
       "      <td>256.100006</td>\n",
       "      <td>256.799988</td>\n",
       "      <td>254.034225</td>\n",
       "      <td>8909916</td>\n",
       "    </tr>\n",
       "    <tr>\n",
       "      <th>2</th>\n",
       "      <td>2022-03-22</td>\n",
       "      <td>257.000000</td>\n",
       "      <td>258.700012</td>\n",
       "      <td>243.050003</td>\n",
       "      <td>248.550003</td>\n",
       "      <td>245.873093</td>\n",
       "      <td>14965332</td>\n",
       "    </tr>\n",
       "    <tr>\n",
       "      <th>3</th>\n",
       "      <td>2022-03-23</td>\n",
       "      <td>251.000000</td>\n",
       "      <td>260.899994</td>\n",
       "      <td>244.199997</td>\n",
       "      <td>256.049988</td>\n",
       "      <td>253.292313</td>\n",
       "      <td>18175302</td>\n",
       "    </tr>\n",
       "    <tr>\n",
       "      <th>4</th>\n",
       "      <td>2022-03-24</td>\n",
       "      <td>281.649994</td>\n",
       "      <td>307.250000</td>\n",
       "      <td>281.649994</td>\n",
       "      <td>298.899994</td>\n",
       "      <td>295.680817</td>\n",
       "      <td>86772872</td>\n",
       "    </tr>\n",
       "  </tbody>\n",
       "</table>\n",
       "</div>"
      ],
      "text/plain": [
       "        Date        Open        High         Low       Close   Adj Close  \\\n",
       "0 2022-03-17  259.799988  261.750000  255.800003  258.799988  256.012695   \n",
       "1 2022-03-21  258.950012  263.299988  256.100006  256.799988  254.034225   \n",
       "2 2022-03-22  257.000000  258.700012  243.050003  248.550003  245.873093   \n",
       "3 2022-03-23  251.000000  260.899994  244.199997  256.049988  253.292313   \n",
       "4 2022-03-24  281.649994  307.250000  281.649994  298.899994  295.680817   \n",
       "\n",
       "     Volume  \n",
       "0   9120713  \n",
       "1   8909916  \n",
       "2  14965332  \n",
       "3  18175302  \n",
       "4  86772872  "
      ]
     },
     "execution_count": 7,
     "metadata": {},
     "output_type": "execute_result"
    }
   ],
   "source": [
    "df = df.reset_index()\n",
    "df.head()"
   ]
  },
  {
   "cell_type": "code",
   "execution_count": 8,
   "id": "1c21230c",
   "metadata": {},
   "outputs": [],
   "source": [
    "clo = df[['Close']]"
   ]
  },
  {
   "cell_type": "code",
   "execution_count": 9,
   "id": "739de6b1",
   "metadata": {},
   "outputs": [
    {
     "data": {
      "text/plain": [
       "<AxesSubplot:>"
      ]
     },
     "execution_count": 9,
     "metadata": {},
     "output_type": "execute_result"
    },
    {
     "data": {
      "image/png": "[encoded data removed]",
      "text/plain": [
       "<Figure size 640x480 with 1 Axes>"
      ]
     },
     "metadata": {},
     "output_type": "display_data"
    }
   ],
   "source": [
    "clo.plot()"
   ]
  },
  {
   "cell_type": "code",
   "execution_count": 10,
   "id": "ddd733ff",
   "metadata": {},
   "outputs": [
    {
     "data": {
      "text/html": [
       "<div>\n",
       "<style scoped>\n",
       "    .dataframe tbody tr th:only-of-type {\n",
       "        vertical-align: middle;\n",
       "    }\n",
       "\n",
       "    .dataframe tbody tr th {\n",
       "        vertical-align: top;\n",
       "    }\n",
       "\n",
       "    .dataframe thead th {\n",
       "        text-align: right;\n",
       "    }\n",
       "</style>\n",
       "<table border=\"1\" class=\"dataframe\">\n",
       "  <thead>\n",
       "    <tr style=\"text-align: right;\">\n",
       "      <th></th>\n",
       "      <th>Date</th>\n",
       "      <th>Open</th>\n",
       "      <th>High</th>\n",
       "      <th>Low</th>\n",
       "      <th>Close</th>\n",
       "      <th>Adj Close</th>\n",
       "      <th>Volume</th>\n",
       "    </tr>\n",
       "  </thead>\n",
       "  <tbody>\n",
       "    <tr>\n",
       "      <th>0</th>\n",
       "      <td>2022-03-17</td>\n",
       "      <td>259.799988</td>\n",
       "      <td>261.750000</td>\n",
       "      <td>255.800003</td>\n",
       "      <td>258.799988</td>\n",
       "      <td>256.012695</td>\n",
       "      <td>9120713</td>\n",
       "    </tr>\n",
       "    <tr>\n",
       "      <th>1</th>\n",
       "      <td>2022-03-21</td>\n",
       "      <td>258.950012</td>\n",
       "      <td>263.299988</td>\n",
       "      <td>256.100006</td>\n",
       "      <td>256.799988</td>\n",
       "      <td>254.034225</td>\n",
       "      <td>8909916</td>\n",
       "    </tr>\n",
       "    <tr>\n",
       "      <th>2</th>\n",
       "      <td>2022-03-22</td>\n",
       "      <td>257.000000</td>\n",
       "      <td>258.700012</td>\n",
       "      <td>243.050003</td>\n",
       "      <td>248.550003</td>\n",
       "      <td>245.873093</td>\n",
       "      <td>14965332</td>\n",
       "    </tr>\n",
       "    <tr>\n",
       "      <th>3</th>\n",
       "      <td>2022-03-23</td>\n",
       "      <td>251.000000</td>\n",
       "      <td>260.899994</td>\n",
       "      <td>244.199997</td>\n",
       "      <td>256.049988</td>\n",
       "      <td>253.292313</td>\n",
       "      <td>18175302</td>\n",
       "    </tr>\n",
       "    <tr>\n",
       "      <th>4</th>\n",
       "      <td>2022-03-24</td>\n",
       "      <td>281.649994</td>\n",
       "      <td>307.250000</td>\n",
       "      <td>281.649994</td>\n",
       "      <td>298.899994</td>\n",
       "      <td>295.680817</td>\n",
       "      <td>86772872</td>\n",
       "    </tr>\n",
       "    <tr>\n",
       "      <th>...</th>\n",
       "      <td>...</td>\n",
       "      <td>...</td>\n",
       "      <td>...</td>\n",
       "      <td>...</td>\n",
       "      <td>...</td>\n",
       "      <td>...</td>\n",
       "      <td>...</td>\n",
       "    </tr>\n",
       "    <tr>\n",
       "      <th>245</th>\n",
       "      <td>2023-03-13</td>\n",
       "      <td>193.699997</td>\n",
       "      <td>194.449997</td>\n",
       "      <td>186.399994</td>\n",
       "      <td>188.300003</td>\n",
       "      <td>188.300003</td>\n",
       "      <td>4321616</td>\n",
       "    </tr>\n",
       "    <tr>\n",
       "      <th>246</th>\n",
       "      <td>2023-03-14</td>\n",
       "      <td>187.199997</td>\n",
       "      <td>193.899994</td>\n",
       "      <td>187.100006</td>\n",
       "      <td>192.449997</td>\n",
       "      <td>192.449997</td>\n",
       "      <td>6511040</td>\n",
       "    </tr>\n",
       "    <tr>\n",
       "      <th>247</th>\n",
       "      <td>2023-03-15</td>\n",
       "      <td>193.000000</td>\n",
       "      <td>194.000000</td>\n",
       "      <td>187.500000</td>\n",
       "      <td>189.050003</td>\n",
       "      <td>189.050003</td>\n",
       "      <td>4079054</td>\n",
       "    </tr>\n",
       "    <tr>\n",
       "      <th>248</th>\n",
       "      <td>2023-03-16</td>\n",
       "      <td>189.100006</td>\n",
       "      <td>207.949997</td>\n",
       "      <td>187.449997</td>\n",
       "      <td>206.699997</td>\n",
       "      <td>206.699997</td>\n",
       "      <td>22589250</td>\n",
       "    </tr>\n",
       "    <tr>\n",
       "      <th>249</th>\n",
       "      <td>2023-03-17</td>\n",
       "      <td>205.850006</td>\n",
       "      <td>209.149994</td>\n",
       "      <td>198.199997</td>\n",
       "      <td>207.250000</td>\n",
       "      <td>207.250000</td>\n",
       "      <td>20518280</td>\n",
       "    </tr>\n",
       "  </tbody>\n",
       "</table>\n",
       "<p>250 rows × 7 columns</p>\n",
       "</div>"
      ],
      "text/plain": [
       "          Date        Open        High         Low       Close   Adj Close  \\\n",
       "0   2022-03-17  259.799988  261.750000  255.800003  258.799988  256.012695   \n",
       "1   2022-03-21  258.950012  263.299988  256.100006  256.799988  254.034225   \n",
       "2   2022-03-22  257.000000  258.700012  243.050003  248.550003  245.873093   \n",
       "3   2022-03-23  251.000000  260.899994  244.199997  256.049988  253.292313   \n",
       "4   2022-03-24  281.649994  307.250000  281.649994  298.899994  295.680817   \n",
       "..         ...         ...         ...         ...         ...         ...   \n",
       "245 2023-03-13  193.699997  194.449997  186.399994  188.300003  188.300003   \n",
       "246 2023-03-14  187.199997  193.899994  187.100006  192.449997  192.449997   \n",
       "247 2023-03-15  193.000000  194.000000  187.500000  189.050003  189.050003   \n",
       "248 2023-03-16  189.100006  207.949997  187.449997  206.699997  206.699997   \n",
       "249 2023-03-17  205.850006  209.149994  198.199997  207.250000  207.250000   \n",
       "\n",
       "       Volume  \n",
       "0     9120713  \n",
       "1     8909916  \n",
       "2    14965332  \n",
       "3    18175302  \n",
       "4    86772872  \n",
       "..        ...  \n",
       "245   4321616  \n",
       "246   6511040  \n",
       "247   4079054  \n",
       "248  22589250  \n",
       "249  20518280  \n",
       "\n",
       "[250 rows x 7 columns]"
      ]
     },
     "execution_count": 10,
     "metadata": {},
     "output_type": "execute_result"
    }
   ],
   "source": [
    "df"
   ]
  },
  {
   "cell_type": "code",
   "execution_count": 11,
   "id": "ef0ffbe6",
   "metadata": {},
   "outputs": [
    {
     "data": {
      "text/plain": [
       "0             NaN\n",
       "1             NaN\n",
       "2             NaN\n",
       "3             NaN\n",
       "4             NaN\n",
       "          ...    \n",
       "245    237.969001\n",
       "246    237.181501\n",
       "247    236.362001\n",
       "248    235.759501\n",
       "249    235.157501\n",
       "Name: Close, Length: 250, dtype: float64"
      ]
     },
     "execution_count": 11,
     "metadata": {},
     "output_type": "execute_result"
    }
   ],
   "source": [
    "ma100 = df.Close.rolling(100).mean()\n",
    "ma100"
   ]
  },
  {
   "cell_type": "code",
   "execution_count": 12,
   "id": "3995375b",
   "metadata": {},
   "outputs": [
    {
     "data": {
      "text/plain": [
       "[<matplotlib.lines.Line2D at 0x24a4e141880>]"
      ]
     },
     "execution_count": 12,
     "metadata": {},
     "output_type": "execute_result"
    },
    {
     "data": {
      "image/png": "[encoded data removed]",
      "text/plain": [
       "<Figure size 1200x600 with 1 Axes>"
      ]
     },
     "metadata": {},
     "output_type": "display_data"
    }
   ],
   "source": [
    "plt.figure(figsize =(12,6))\n",
    "plt.plot(df.Close)\n",
    "plt.plot(ma100, 'r')"
   ]
  },
  {
   "cell_type": "code",
   "execution_count": 13,
   "id": "7f1121bb",
   "metadata": {},
   "outputs": [
    {
     "data": {
      "text/plain": [
       "0             NaN\n",
       "1             NaN\n",
       "2             NaN\n",
       "3             NaN\n",
       "4             NaN\n",
       "          ...    \n",
       "245    241.684001\n",
       "246    241.497251\n",
       "247    241.255501\n",
       "248    241.065501\n",
       "249    240.837501\n",
       "Name: Close, Length: 250, dtype: float64"
      ]
     },
     "execution_count": 13,
     "metadata": {},
     "output_type": "execute_result"
    }
   ],
   "source": [
    "ma200 = df.Close.rolling(200).mean()\n",
    "ma200"
   ]
  },
  {
   "cell_type": "code",
   "execution_count": 14,
   "id": "4e3d242a",
   "metadata": {},
   "outputs": [
    {
     "data": {
      "text/plain": [
       "[<matplotlib.lines.Line2D at 0x24a4e1c2190>]"
      ]
     },
     "execution_count": 14,
     "metadata": {},
     "output_type": "execute_result"
    },
    {
     "data": {
      "image/png": "[encoded data removed]",
      "text/plain": [
       "<Figure size 1200x600 with 1 Axes>"
      ]
     },
     "metadata": {},
     "output_type": "display_data"
    }
   ],
   "source": [
    "plt.figure(figsize =(12,6))\n",
    "plt.plot(df.Close)\n",
    "plt.plot(ma100, 'r')\n",
    "plt.plot(ma200, 'g')"
   ]
  },
  {
   "cell_type": "code",
   "execution_count": 15,
   "id": "aaed6a1a",
   "metadata": {},
   "outputs": [
    {
     "data": {
      "text/plain": [
       "(250, 7)"
      ]
     },
     "execution_count": 15,
     "metadata": {},
     "output_type": "execute_result"
    }
   ],
   "source": [
    "df.shape"
   ]
  },
  {
   "cell_type": "code",
   "execution_count": 16,
   "id": "d5e40826",
   "metadata": {},
   "outputs": [
    {
     "name": "stdout",
     "output_type": "stream",
     "text": [
      "(175, 1)\n",
      "(75, 1)\n"
     ]
    }
   ],
   "source": [
    "#split data into training and testing\n",
    "data_training =pd.DataFrame(df['Close'][0:int(len(df)*0.70)])\n",
    "data_testing =pd.DataFrame(df['Close'][int(len(df)*0.70):int(len(df))])\n",
    "\n",
    "print(data_training.shape)\n",
    "print(data_testing.shape)"
   ]
  },
  {
   "cell_type": "code",
   "execution_count": 17,
   "id": "64e4d035",
   "metadata": {},
   "outputs": [
    {
     "data": {
      "text/html": [
       "<div>\n",
       "<style scoped>\n",
       "    .dataframe tbody tr th:only-of-type {\n",
       "        vertical-align: middle;\n",
       "    }\n",
       "\n",
       "    .dataframe tbody tr th {\n",
       "        vertical-align: top;\n",
       "    }\n",
       "\n",
       "    .dataframe thead th {\n",
       "        text-align: right;\n",
       "    }\n",
       "</style>\n",
       "<table border=\"1\" class=\"dataframe\">\n",
       "  <thead>\n",
       "    <tr style=\"text-align: right;\">\n",
       "      <th></th>\n",
       "      <th>Close</th>\n",
       "    </tr>\n",
       "  </thead>\n",
       "  <tbody>\n",
       "    <tr>\n",
       "      <th>0</th>\n",
       "      <td>258.799988</td>\n",
       "    </tr>\n",
       "    <tr>\n",
       "      <th>1</th>\n",
       "      <td>256.799988</td>\n",
       "    </tr>\n",
       "    <tr>\n",
       "      <th>2</th>\n",
       "      <td>248.550003</td>\n",
       "    </tr>\n",
       "    <tr>\n",
       "      <th>3</th>\n",
       "      <td>256.049988</td>\n",
       "    </tr>\n",
       "    <tr>\n",
       "      <th>4</th>\n",
       "      <td>298.899994</td>\n",
       "    </tr>\n",
       "  </tbody>\n",
       "</table>\n",
       "</div>"
      ],
      "text/plain": [
       "        Close\n",
       "0  258.799988\n",
       "1  256.799988\n",
       "2  248.550003\n",
       "3  256.049988\n",
       "4  298.899994"
      ]
     },
     "execution_count": 17,
     "metadata": {},
     "output_type": "execute_result"
    }
   ],
   "source": [
    "data_training.head()"
   ]
  },
  {
   "cell_type": "code",
   "execution_count": 18,
   "id": "d57464d1",
   "metadata": {},
   "outputs": [
    {
     "data": {
      "text/html": [
       "<div>\n",
       "<style scoped>\n",
       "    .dataframe tbody tr th:only-of-type {\n",
       "        vertical-align: middle;\n",
       "    }\n",
       "\n",
       "    .dataframe tbody tr th {\n",
       "        vertical-align: top;\n",
       "    }\n",
       "\n",
       "    .dataframe thead th {\n",
       "        text-align: right;\n",
       "    }\n",
       "</style>\n",
       "<table border=\"1\" class=\"dataframe\">\n",
       "  <thead>\n",
       "    <tr style=\"text-align: right;\">\n",
       "      <th></th>\n",
       "      <th>Close</th>\n",
       "    </tr>\n",
       "  </thead>\n",
       "  <tbody>\n",
       "    <tr>\n",
       "      <th>175</th>\n",
       "      <td>266.350006</td>\n",
       "    </tr>\n",
       "    <tr>\n",
       "      <th>176</th>\n",
       "      <td>271.049988</td>\n",
       "    </tr>\n",
       "    <tr>\n",
       "      <th>177</th>\n",
       "      <td>268.200012</td>\n",
       "    </tr>\n",
       "    <tr>\n",
       "      <th>178</th>\n",
       "      <td>264.350006</td>\n",
       "    </tr>\n",
       "    <tr>\n",
       "      <th>179</th>\n",
       "      <td>261.250000</td>\n",
       "    </tr>\n",
       "  </tbody>\n",
       "</table>\n",
       "</div>"
      ],
      "text/plain": [
       "          Close\n",
       "175  266.350006\n",
       "176  271.049988\n",
       "177  268.200012\n",
       "178  264.350006\n",
       "179  261.250000"
      ]
     },
     "execution_count": 18,
     "metadata": {},
     "output_type": "execute_result"
    }
   ],
   "source": [
    "data_testing.head()"
   ]
  },
  {
   "cell_type": "code",
   "execution_count": 19,
   "id": "1c58f1b0",
   "metadata": {},
   "outputs": [],
   "source": [
    "from sklearn.preprocessing import MinMaxScaler\n",
    "scaler = MinMaxScaler(feature_range=(0,1))"
   ]
  },
  {
   "cell_type": "code",
   "execution_count": 20,
   "id": "3d25c3d3",
   "metadata": {},
   "outputs": [
    {
     "data": {
      "text/plain": [
       "array([[0.53294358],\n",
       "       [0.51168959],\n",
       "       [0.42401707],\n",
       "       [0.50371935],\n",
       "       [0.95908602],\n",
       "       [0.91870358],\n",
       "       [0.86344309],\n",
       "       [0.80818293],\n",
       "       [0.90701382],\n",
       "       [0.84697138],\n",
       "       [0.96865024],\n",
       "       [1.        ],\n",
       "       [0.97236976],\n",
       "       [0.87407008],\n",
       "       [0.80871415],\n",
       "       [0.82199789],\n",
       "       [0.87300732],\n",
       "       [0.78267789],\n",
       "       [0.75079691],\n",
       "       [0.69606797],\n",
       "       [0.62699252],\n",
       "       [0.60573854],\n",
       "       [0.61955382],\n",
       "       [0.6482465 ],\n",
       "       [0.53985138],\n",
       "       [0.55632309],\n",
       "       [0.47980878],\n",
       "       [0.4989374 ],\n",
       "       [0.41976618],\n",
       "       [0.49681187],\n",
       "       [0.37353886],\n",
       "       [0.37938374],\n",
       "       [0.42082894],\n",
       "       [0.27842732],\n",
       "       [0.2550478 ],\n",
       "       [0.32837415],\n",
       "       [0.29330504],\n",
       "       [0.32518602],\n",
       "       [0.32996813],\n",
       "       [0.39744959],\n",
       "       [0.35919236],\n",
       "       [0.22954309],\n",
       "       [0.31934114],\n",
       "       [0.31083951],\n",
       "       [0.3007439 ],\n",
       "       [0.21732211],\n",
       "       [0.22476098],\n",
       "       [0.30552602],\n",
       "       [0.38310309],\n",
       "       [0.46971317],\n",
       "       [0.47290114],\n",
       "       [0.49681187],\n",
       "       [0.45536667],\n",
       "       [0.42879919],\n",
       "       [0.31190228],\n",
       "       [0.3204039 ],\n",
       "       [0.33528163],\n",
       "       [0.29224228],\n",
       "       [0.19181724],\n",
       "       [0.15196602],\n",
       "       [0.13124341],\n",
       "       [0.05207236],\n",
       "       [0.0653561 ],\n",
       "       [0.        ],\n",
       "       [0.13708829],\n",
       "       [0.02816163],\n",
       "       [0.06482472],\n",
       "       [0.13071203],\n",
       "       [0.14293317],\n",
       "       [0.09139219],\n",
       "       [0.04516472],\n",
       "       [0.05791724],\n",
       "       [0.07066959],\n",
       "       [0.1121148 ],\n",
       "       [0.07120098],\n",
       "       [0.15940488],\n",
       "       [0.15302878],\n",
       "       [0.16153041],\n",
       "       [0.16471837],\n",
       "       [0.12911805],\n",
       "       [0.15356016],\n",
       "       [0.16737512],\n",
       "       [0.16950065],\n",
       "       [0.23538797],\n",
       "       [0.23273122],\n",
       "       [0.23273122],\n",
       "       [0.27948992],\n",
       "       [0.28746016],\n",
       "       [0.26408081],\n",
       "       [0.28214667],\n",
       "       [0.3320935 ],\n",
       "       [0.41870358],\n",
       "       [0.4075452 ],\n",
       "       [0.47343252],\n",
       "       [0.40967057],\n",
       "       [0.34272049],\n",
       "       [0.36131772],\n",
       "       [0.37407024],\n",
       "       [0.45270992],\n",
       "       [0.43836341],\n",
       "       [0.41870358],\n",
       "       [0.35228488],\n",
       "       [0.30977691],\n",
       "       [0.46386829],\n",
       "       [0.46811902],\n",
       "       [0.54835285],\n",
       "       [0.53666309],\n",
       "       [0.51115837],\n",
       "       [0.5871413 ],\n",
       "       [0.57120081],\n",
       "       [0.5260361 ],\n",
       "       [0.45377268],\n",
       "       [0.51434634],\n",
       "       [0.38363447],\n",
       "       [0.42614244],\n",
       "       [0.45005317],\n",
       "       [0.42454846],\n",
       "       [0.55260358],\n",
       "       [0.51487789],\n",
       "       [0.58289057],\n",
       "       [0.65568553],\n",
       "       [0.66737528],\n",
       "       [0.74282667],\n",
       "       [0.69181724],\n",
       "       [0.55844862],\n",
       "       [0.61742829],\n",
       "       [0.6588735 ],\n",
       "       [0.66737528],\n",
       "       [0.68809772],\n",
       "       [0.55579187],\n",
       "       [0.52284813],\n",
       "       [0.57757707],\n",
       "       [0.51222114],\n",
       "       [0.45111593],\n",
       "       [0.5260361 ],\n",
       "       [0.46280553],\n",
       "       [0.63283756],\n",
       "       [0.75770472],\n",
       "       [0.77736439],\n",
       "       [0.74335821],\n",
       "       [0.68012748],\n",
       "       [0.63018081],\n",
       "       [0.68544098],\n",
       "       [0.62433577],\n",
       "       [0.5850161 ],\n",
       "       [0.65993626],\n",
       "       [0.66471854],\n",
       "       [0.66259301],\n",
       "       [0.61955382],\n",
       "       [0.62486732],\n",
       "       [0.57704585],\n",
       "       [0.60839528],\n",
       "       [0.57810829],\n",
       "       [0.57173236],\n",
       "       [0.57226358],\n",
       "       [0.59829984],\n",
       "       [0.62433577],\n",
       "       [0.59989382],\n",
       "       [0.5924548 ],\n",
       "       [0.57173236],\n",
       "       [0.56376211],\n",
       "       [0.60786406],\n",
       "       [0.54144537],\n",
       "       [0.54729008],\n",
       "       [0.48990439],\n",
       "       [0.47077577],\n",
       "       [0.44845919],\n",
       "       [0.40860797],\n",
       "       [0.46068016],\n",
       "       [0.47980878],\n",
       "       [0.46865041],\n",
       "       [0.53931984],\n",
       "       [0.55100959],\n",
       "       [0.56588732],\n",
       "       [0.59458032]])"
      ]
     },
     "execution_count": 20,
     "metadata": {},
     "output_type": "execute_result"
    }
   ],
   "source": [
    "data_training_array = scaler.fit_transform(data_training)\n",
    "data_training_array"
   ]
  },
  {
   "cell_type": "code",
   "execution_count": 21,
   "id": "f6e9d0b6",
   "metadata": {},
   "outputs": [
    {
     "data": {
      "text/plain": [
       "(175, 1)"
      ]
     },
     "execution_count": 21,
     "metadata": {},
     "output_type": "execute_result"
    }
   ],
   "source": [
    "data_training_array.shape"
   ]
  },
  {
   "cell_type": "code",
   "execution_count": 22,
   "id": "97770c7d",
   "metadata": {},
   "outputs": [],
   "source": [
    "x_train = []\n",
    "y_train = []\n",
    "\n",
    "for i in range(100,data_training_array.shape[0]):\n",
    "    x_train.append(data_training_array[i-100: i])\n",
    "    y_train.append(data_training_array[i, 0])\n",
    "    \n",
    "x_train, y_train= np.array(x_train), np.array(y_train)"
   ]
  },
  {
   "cell_type": "code",
   "execution_count": 23,
   "id": "0b41205c",
   "metadata": {},
   "outputs": [
    {
     "ename": "ModuleNotFoundError",
     "evalue": "No module named 'tensorflow'",
     "output_type": "error",
     "traceback": [
      "\u001b[1;31m---------------------------------------------------------------------------\u001b[0m",
      "\u001b[1;31mModuleNotFoundError\u001b[0m                       Traceback (most recent call last)",
      "\u001b[1;32m~\\AppData\\Local\\Temp\\ipykernel_12228\\749364851.py\u001b[0m in \u001b[0;36m<module>\u001b[1;34m\u001b[0m\n\u001b[0;32m      2\u001b[0m \u001b[1;31m#from keras.layers import dense, Dropout , LSTM\u001b[0m\u001b[1;33m\u001b[0m\u001b[1;33m\u001b[0m\u001b[0m\n\u001b[0;32m      3\u001b[0m \u001b[1;31m#from keras.models import Sequential\u001b[0m\u001b[1;33m\u001b[0m\u001b[1;33m\u001b[0m\u001b[0m\n\u001b[1;32m----> 4\u001b[1;33m \u001b[1;32mimport\u001b[0m \u001b[0mtensorflow\u001b[0m \u001b[1;32mas\u001b[0m \u001b[0mtf\u001b[0m\u001b[1;33m\u001b[0m\u001b[1;33m\u001b[0m\u001b[0m\n\u001b[0m\u001b[0;32m      5\u001b[0m \u001b[1;32mfrom\u001b[0m \u001b[0mtensorflow\u001b[0m\u001b[1;33m.\u001b[0m\u001b[0mkeras\u001b[0m\u001b[1;33m.\u001b[0m\u001b[0mmodels\u001b[0m \u001b[1;32mimport\u001b[0m \u001b[0mSequential\u001b[0m\u001b[1;33m\u001b[0m\u001b[1;33m\u001b[0m\u001b[0m\n\u001b[0;32m      6\u001b[0m \u001b[1;32mfrom\u001b[0m \u001b[0mtensorflow\u001b[0m\u001b[1;33m.\u001b[0m\u001b[0mkeras\u001b[0m\u001b[1;33m.\u001b[0m\u001b[0mlayers\u001b[0m \u001b[1;32mimport\u001b[0m \u001b[0mDense\u001b[0m\u001b[1;33m,\u001b[0m\u001b[0mDropout\u001b[0m\u001b[1;33m,\u001b[0m \u001b[0mLSTM\u001b[0m\u001b[1;33m\u001b[0m\u001b[1;33m\u001b[0m\u001b[0m\n",
      "\u001b[1;31mModuleNotFoundError\u001b[0m: No module named 'tensorflow'"
     ]
    }
   ],
   "source": [
    "# ML model Main phase\n",
    "#from keras.layers import dense, Dropout , LSTM\n",
    "#from keras.models import Sequential\n",
    "import tensorflow as tf\n",
    "from tensorflow.keras.models import Sequential\n",
    "from tensorflow.keras.layers import Dense,Dropout, LSTM"
   ]
  },
  {
   "cell_type": "code",
   "execution_count": null,
   "id": "af804e75",
   "metadata": {},
   "outputs": [],
   "source": [
    "model = Sequential()\n",
    "model.add(LSTM(units = 50, activation = 'relu',return_sequences = True,\n",
    "              input_shape = (x_train.shape[1],1)))\n",
    "model.add(Dropout(0.2))\n",
    "\n",
    "model.add(LSTM(units = 60, activation = 'relu',return_sequences = True))\n",
    "model.add(Dropout(0.3))\n",
    "\n",
    "model.add(LSTM(units = 80, activation = 'relu',return_sequences = True)) \n",
    "model.add(Dropout(0.4))\n",
    "\n",
    "model.add(LSTM(units = 80, activation = 'relu')) \n",
    "model.add(Dropout(0.5))\n",
    "\n",
    "model.add(Dense(units = 1))"
   ]
  },
  {
   "cell_type": "code",
   "execution_count": null,
   "id": "86fc30c8",
   "metadata": {},
   "outputs": [],
   "source": [
    "model.summary()"
   ]
  },
  {
   "cell_type": "code",
   "execution_count": null,
   "id": "b039eac8",
   "metadata": {},
   "outputs": [],
   "source": [
    "model.compile(optimizer='adam', loss = 'mean_squared_error')\n",
    "model.fit(x_train, y_train, epochs = 50)"
   ]
  },
  {
   "cell_type": "code",
   "execution_count": null,
   "id": "84c8eb9c",
   "metadata": {},
   "outputs": [],
   "source": [
    "model.save('Keras_model.h5')\n"
   ]
  },
  {
   "cell_type": "code",
   "execution_count": null,
   "id": "25de8a5d",
   "metadata": {},
   "outputs": [],
   "source": [
    "data_testing.head()"
   ]
  },
  {
   "cell_type": "code",
   "execution_count": null,
   "id": "6339ab64",
   "metadata": {},
   "outputs": [],
   "source": [
    "data_testing.tail(100)"
   ]
  },
  {
   "cell_type": "code",
   "execution_count": null,
   "id": "3e5686c4",
   "metadata": {},
   "outputs": [],
   "source": [
    "past_100_days = data_training.tail(100)"
   ]
  },
  {
   "cell_type": "code",
   "execution_count": null,
   "id": "34abda1b",
   "metadata": {},
   "outputs": [],
   "source": [
    "final_df = past_100_days.append(data_testing, ignore_index=True)"
   ]
  },
  {
   "cell_type": "code",
   "execution_count": null,
   "id": "fad04fc2",
   "metadata": {},
   "outputs": [],
   "source": [
    "final_df.head()"
   ]
  },
  {
   "cell_type": "code",
   "execution_count": null,
   "id": "c0db4807",
   "metadata": {},
   "outputs": [],
   "source": [
    "input_data = scaler.fit_transform(final_df)\n",
    "input_data"
   ]
  },
  {
   "cell_type": "code",
   "execution_count": null,
   "id": "ace8015c",
   "metadata": {},
   "outputs": [],
   "source": [
    "input_data.shape"
   ]
  },
  {
   "cell_type": "code",
   "execution_count": null,
   "id": "9e381193",
   "metadata": {},
   "outputs": [],
   "source": [
    "x_test = []\n",
    "y_test = []\n",
    "\n",
    "for i in range(100, input_data.shape[0]):\n",
    "    x_test.append(input_data[i-100: i])\n",
    "    y_test.append(input_data[i, 0])"
   ]
  },
  {
   "cell_type": "code",
   "execution_count": null,
   "id": "bc6b1895",
   "metadata": {},
   "outputs": [],
   "source": [
    "x_test, y_test = np.array(x_test), np.array(y_test)\n",
    "print(x_test.shape)\n",
    "print(y_test.shape)"
   ]
  },
  {
   "cell_type": "code",
   "execution_count": null,
   "id": "43512bff",
   "metadata": {},
   "outputs": [],
   "source": [
    "# making prediction\n",
    "y_predicted = model.predict(x_test)"
   ]
  },
  {
   "cell_type": "code",
   "execution_count": null,
   "id": "22020091",
   "metadata": {},
   "outputs": [],
   "source": [
    "y_predicted.shape"
   ]
  },
  {
   "cell_type": "code",
   "execution_count": null,
   "id": "b5d1e5ef",
   "metadata": {},
   "outputs": [],
   "source": [
    "y_test"
   ]
  },
  {
   "cell_type": "code",
   "execution_count": null,
   "id": "9ea1c2d1",
   "metadata": {},
   "outputs": [],
   "source": [
    "y_predicted"
   ]
  },
  {
   "cell_type": "code",
   "execution_count": null,
   "id": "bfb16d29",
   "metadata": {},
   "outputs": [],
   "source": [
    "scaler.scale_"
   ]
  },
  {
   "cell_type": "code",
   "execution_count": null,
   "id": "3a0c7084",
   "metadata": {},
   "outputs": [],
   "source": [
    "scale_factor = 1/0.02099517\n",
    "y_predicted = y_predicted * scale_factor\n",
    "y_test =y_test * scale_factor"
   ]
  },
  {
   "cell_type": "code",
   "execution_count": null,
   "id": "a547e7ab",
   "metadata": {},
   "outputs": [],
   "source": [
    "plt.figure(figsize=(12,6))\n",
    "plt.plot(y_test, 'b', label= 'Original Price')\n",
    "plt.plot(y_predicted, 'r', label = 'Predicted price')\n",
    "plt.xlabel('Time')\n",
    "plt.ylabel('Price')\n",
    "plt.legend()\n",
    "plt.show()\n"
   ]
  }
 ],
 "metadata": {
  "kernelspec": {
   "display_name": "Python 3 (ipykernel)",
   "language": "python",
   "name": "python3"
  },
  "language_info": {
   "codemirror_mode": {
    "name": "ipython",
    "version": 3
   },
   "file_extension": ".py",
   "mimetype": "text/x-python",
   "name": "python",
   "nbconvert_exporter": "python",
   "pygments_lexer": "ipython3",
   "version": "3.10.9"
  }
 },
 "nbformat": 4,
 "nbformat_minor": 5
}
